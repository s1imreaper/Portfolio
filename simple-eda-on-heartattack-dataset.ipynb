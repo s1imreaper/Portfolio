{
 "cells": [
  {
   "cell_type": "code",
   "execution_count": 1,
   "id": "young-canyon",
   "metadata": {
    "execution": {
     "iopub.execute_input": "2023-01-15T09:34:40.084566Z",
     "iopub.status.busy": "2023-01-15T09:34:40.083344Z",
     "iopub.status.idle": "2023-01-15T09:34:40.085795Z",
     "shell.execute_reply": "2023-01-15T09:34:40.087484Z",
     "shell.execute_reply.started": "2022-08-11T07:20:01.669527Z"
    },
    "papermill": {
     "duration": 0.030829,
     "end_time": "2023-01-15T09:34:40.087769",
     "exception": false,
     "start_time": "2023-01-15T09:34:40.056940",
     "status": "completed"
    },
    "tags": []
   },
   "outputs": [],
   "source": [
    "#welcome to my first notebook\n",
    "#please feel free to leave feedback and suggestions, I am trying to improve \n",
    "#thank you :) "
   ]
  },
  {
   "cell_type": "code",
   "execution_count": 2,
   "id": "tender-lindsay",
   "metadata": {
    "execution": {
     "iopub.execute_input": "2023-01-15T09:34:40.139075Z",
     "iopub.status.busy": "2023-01-15T09:34:40.138379Z",
     "iopub.status.idle": "2023-01-15T09:34:41.126602Z",
     "shell.execute_reply": "2023-01-15T09:34:41.125977Z",
     "shell.execute_reply.started": "2022-08-11T07:20:01.678874Z"
    },
    "papermill": {
     "duration": 1.018828,
     "end_time": "2023-01-15T09:34:41.126763",
     "exception": false,
     "start_time": "2023-01-15T09:34:40.107935",
     "status": "completed"
    },
    "tags": []
   },
   "outputs": [],
   "source": [
    "#libraries\n",
    "import matplotlib.pyplot as plt\n",
    "import seaborn as sns\n",
    "from sklearn.model_selection import train_test_split\n",
    "import pandas as pd\n",
    "import numpy as np"
   ]
  },
  {
   "cell_type": "code",
   "execution_count": 3,
   "id": "following-payment",
   "metadata": {
    "execution": {
     "iopub.execute_input": "2023-01-15T09:34:41.172337Z",
     "iopub.status.busy": "2023-01-15T09:34:41.171643Z",
     "iopub.status.idle": "2023-01-15T09:34:41.191703Z",
     "shell.execute_reply": "2023-01-15T09:34:41.192242Z",
     "shell.execute_reply.started": "2022-08-11T07:20:01.690458Z"
    },
    "papermill": {
     "duration": 0.045586,
     "end_time": "2023-01-15T09:34:41.192449",
     "exception": false,
     "start_time": "2023-01-15T09:34:41.146863",
     "status": "completed"
    },
    "tags": []
   },
   "outputs": [],
   "source": [
    "#lets bring in the dataset to start\n",
    "df = pd.read_csv('../input/hearted/heart.csv')"
   ]
  },
  {
   "cell_type": "code",
   "execution_count": 4,
   "id": "acknowledged-cycling",
   "metadata": {
    "execution": {
     "iopub.execute_input": "2023-01-15T09:34:41.242600Z",
     "iopub.status.busy": "2023-01-15T09:34:41.241910Z",
     "iopub.status.idle": "2023-01-15T09:34:41.262421Z",
     "shell.execute_reply": "2023-01-15T09:34:41.262922Z",
     "shell.execute_reply.started": "2022-08-11T07:20:01.708643Z"
    },
    "papermill": {
     "duration": 0.049889,
     "end_time": "2023-01-15T09:34:41.263111",
     "exception": false,
     "start_time": "2023-01-15T09:34:41.213222",
     "status": "completed"
    },
    "tags": []
   },
   "outputs": [
    {
     "data": {
      "text/html": [
       "<div>\n",
       "<style scoped>\n",
       "    .dataframe tbody tr th:only-of-type {\n",
       "        vertical-align: middle;\n",
       "    }\n",
       "\n",
       "    .dataframe tbody tr th {\n",
       "        vertical-align: top;\n",
       "    }\n",
       "\n",
       "    .dataframe thead th {\n",
       "        text-align: right;\n",
       "    }\n",
       "</style>\n",
       "<table border=\"1\" class=\"dataframe\">\n",
       "  <thead>\n",
       "    <tr style=\"text-align: right;\">\n",
       "      <th></th>\n",
       "      <th>age</th>\n",
       "      <th>sex</th>\n",
       "      <th>cp</th>\n",
       "      <th>trtbps</th>\n",
       "      <th>chol</th>\n",
       "      <th>fbs</th>\n",
       "      <th>restecg</th>\n",
       "      <th>thalachh</th>\n",
       "      <th>exng</th>\n",
       "      <th>oldpeak</th>\n",
       "      <th>slp</th>\n",
       "      <th>caa</th>\n",
       "      <th>thall</th>\n",
       "      <th>output</th>\n",
       "    </tr>\n",
       "  </thead>\n",
       "  <tbody>\n",
       "    <tr>\n",
       "      <th>0</th>\n",
       "      <td>63</td>\n",
       "      <td>1</td>\n",
       "      <td>3</td>\n",
       "      <td>145</td>\n",
       "      <td>233</td>\n",
       "      <td>1</td>\n",
       "      <td>0</td>\n",
       "      <td>150</td>\n",
       "      <td>0</td>\n",
       "      <td>2.3</td>\n",
       "      <td>0</td>\n",
       "      <td>0</td>\n",
       "      <td>1</td>\n",
       "      <td>1</td>\n",
       "    </tr>\n",
       "    <tr>\n",
       "      <th>1</th>\n",
       "      <td>37</td>\n",
       "      <td>1</td>\n",
       "      <td>2</td>\n",
       "      <td>130</td>\n",
       "      <td>250</td>\n",
       "      <td>0</td>\n",
       "      <td>1</td>\n",
       "      <td>187</td>\n",
       "      <td>0</td>\n",
       "      <td>3.5</td>\n",
       "      <td>0</td>\n",
       "      <td>0</td>\n",
       "      <td>2</td>\n",
       "      <td>1</td>\n",
       "    </tr>\n",
       "    <tr>\n",
       "      <th>2</th>\n",
       "      <td>41</td>\n",
       "      <td>0</td>\n",
       "      <td>1</td>\n",
       "      <td>130</td>\n",
       "      <td>204</td>\n",
       "      <td>0</td>\n",
       "      <td>0</td>\n",
       "      <td>172</td>\n",
       "      <td>0</td>\n",
       "      <td>1.4</td>\n",
       "      <td>2</td>\n",
       "      <td>0</td>\n",
       "      <td>2</td>\n",
       "      <td>1</td>\n",
       "    </tr>\n",
       "    <tr>\n",
       "      <th>3</th>\n",
       "      <td>56</td>\n",
       "      <td>1</td>\n",
       "      <td>1</td>\n",
       "      <td>120</td>\n",
       "      <td>236</td>\n",
       "      <td>0</td>\n",
       "      <td>1</td>\n",
       "      <td>178</td>\n",
       "      <td>0</td>\n",
       "      <td>0.8</td>\n",
       "      <td>2</td>\n",
       "      <td>0</td>\n",
       "      <td>2</td>\n",
       "      <td>1</td>\n",
       "    </tr>\n",
       "    <tr>\n",
       "      <th>4</th>\n",
       "      <td>57</td>\n",
       "      <td>0</td>\n",
       "      <td>0</td>\n",
       "      <td>120</td>\n",
       "      <td>354</td>\n",
       "      <td>0</td>\n",
       "      <td>1</td>\n",
       "      <td>163</td>\n",
       "      <td>1</td>\n",
       "      <td>0.6</td>\n",
       "      <td>2</td>\n",
       "      <td>0</td>\n",
       "      <td>2</td>\n",
       "      <td>1</td>\n",
       "    </tr>\n",
       "  </tbody>\n",
       "</table>\n",
       "</div>"
      ],
      "text/plain": [
       "   age  sex  cp  trtbps  chol  fbs  restecg  thalachh  exng  oldpeak  slp  \\\n",
       "0   63    1   3     145   233    1        0       150     0      2.3    0   \n",
       "1   37    1   2     130   250    0        1       187     0      3.5    0   \n",
       "2   41    0   1     130   204    0        0       172     0      1.4    2   \n",
       "3   56    1   1     120   236    0        1       178     0      0.8    2   \n",
       "4   57    0   0     120   354    0        1       163     1      0.6    2   \n",
       "\n",
       "   caa  thall  output  \n",
       "0    0      1       1  \n",
       "1    0      2       1  \n",
       "2    0      2       1  \n",
       "3    0      2       1  \n",
       "4    0      2       1  "
      ]
     },
     "execution_count": 4,
     "metadata": {},
     "output_type": "execute_result"
    }
   ],
   "source": [
    "#top 5 rows\n",
    "df.head()"
   ]
  },
  {
   "cell_type": "code",
   "execution_count": 5,
   "id": "pleasant-beach",
   "metadata": {
    "execution": {
     "iopub.execute_input": "2023-01-15T09:34:41.317816Z",
     "iopub.status.busy": "2023-01-15T09:34:41.312481Z",
     "iopub.status.idle": "2023-01-15T09:34:41.322788Z",
     "shell.execute_reply": "2023-01-15T09:34:41.322135Z",
     "shell.execute_reply.started": "2022-08-11T07:20:01.725758Z"
    },
    "papermill": {
     "duration": 0.039149,
     "end_time": "2023-01-15T09:34:41.322928",
     "exception": false,
     "start_time": "2023-01-15T09:34:41.283779",
     "status": "completed"
    },
    "tags": []
   },
   "outputs": [
    {
     "data": {
      "text/html": [
       "<div>\n",
       "<style scoped>\n",
       "    .dataframe tbody tr th:only-of-type {\n",
       "        vertical-align: middle;\n",
       "    }\n",
       "\n",
       "    .dataframe tbody tr th {\n",
       "        vertical-align: top;\n",
       "    }\n",
       "\n",
       "    .dataframe thead th {\n",
       "        text-align: right;\n",
       "    }\n",
       "</style>\n",
       "<table border=\"1\" class=\"dataframe\">\n",
       "  <thead>\n",
       "    <tr style=\"text-align: right;\">\n",
       "      <th></th>\n",
       "      <th>age</th>\n",
       "      <th>sex</th>\n",
       "      <th>cp</th>\n",
       "      <th>trtbps</th>\n",
       "      <th>chol</th>\n",
       "      <th>fbs</th>\n",
       "      <th>restecg</th>\n",
       "      <th>thalachh</th>\n",
       "      <th>exng</th>\n",
       "      <th>oldpeak</th>\n",
       "      <th>slp</th>\n",
       "      <th>caa</th>\n",
       "      <th>thall</th>\n",
       "      <th>output</th>\n",
       "    </tr>\n",
       "  </thead>\n",
       "  <tbody>\n",
       "    <tr>\n",
       "      <th>298</th>\n",
       "      <td>57</td>\n",
       "      <td>0</td>\n",
       "      <td>0</td>\n",
       "      <td>140</td>\n",
       "      <td>241</td>\n",
       "      <td>0</td>\n",
       "      <td>1</td>\n",
       "      <td>123</td>\n",
       "      <td>1</td>\n",
       "      <td>0.2</td>\n",
       "      <td>1</td>\n",
       "      <td>0</td>\n",
       "      <td>3</td>\n",
       "      <td>0</td>\n",
       "    </tr>\n",
       "    <tr>\n",
       "      <th>299</th>\n",
       "      <td>45</td>\n",
       "      <td>1</td>\n",
       "      <td>3</td>\n",
       "      <td>110</td>\n",
       "      <td>264</td>\n",
       "      <td>0</td>\n",
       "      <td>1</td>\n",
       "      <td>132</td>\n",
       "      <td>0</td>\n",
       "      <td>1.2</td>\n",
       "      <td>1</td>\n",
       "      <td>0</td>\n",
       "      <td>3</td>\n",
       "      <td>0</td>\n",
       "    </tr>\n",
       "    <tr>\n",
       "      <th>300</th>\n",
       "      <td>68</td>\n",
       "      <td>1</td>\n",
       "      <td>0</td>\n",
       "      <td>144</td>\n",
       "      <td>193</td>\n",
       "      <td>1</td>\n",
       "      <td>1</td>\n",
       "      <td>141</td>\n",
       "      <td>0</td>\n",
       "      <td>3.4</td>\n",
       "      <td>1</td>\n",
       "      <td>2</td>\n",
       "      <td>3</td>\n",
       "      <td>0</td>\n",
       "    </tr>\n",
       "    <tr>\n",
       "      <th>301</th>\n",
       "      <td>57</td>\n",
       "      <td>1</td>\n",
       "      <td>0</td>\n",
       "      <td>130</td>\n",
       "      <td>131</td>\n",
       "      <td>0</td>\n",
       "      <td>1</td>\n",
       "      <td>115</td>\n",
       "      <td>1</td>\n",
       "      <td>1.2</td>\n",
       "      <td>1</td>\n",
       "      <td>1</td>\n",
       "      <td>3</td>\n",
       "      <td>0</td>\n",
       "    </tr>\n",
       "    <tr>\n",
       "      <th>302</th>\n",
       "      <td>57</td>\n",
       "      <td>0</td>\n",
       "      <td>1</td>\n",
       "      <td>130</td>\n",
       "      <td>236</td>\n",
       "      <td>0</td>\n",
       "      <td>0</td>\n",
       "      <td>174</td>\n",
       "      <td>0</td>\n",
       "      <td>0.0</td>\n",
       "      <td>1</td>\n",
       "      <td>1</td>\n",
       "      <td>2</td>\n",
       "      <td>0</td>\n",
       "    </tr>\n",
       "  </tbody>\n",
       "</table>\n",
       "</div>"
      ],
      "text/plain": [
       "     age  sex  cp  trtbps  chol  fbs  restecg  thalachh  exng  oldpeak  slp  \\\n",
       "298   57    0   0     140   241    0        1       123     1      0.2    1   \n",
       "299   45    1   3     110   264    0        1       132     0      1.2    1   \n",
       "300   68    1   0     144   193    1        1       141     0      3.4    1   \n",
       "301   57    1   0     130   131    0        1       115     1      1.2    1   \n",
       "302   57    0   1     130   236    0        0       174     0      0.0    1   \n",
       "\n",
       "     caa  thall  output  \n",
       "298    0      3       0  \n",
       "299    0      3       0  \n",
       "300    2      3       0  \n",
       "301    1      3       0  \n",
       "302    1      2       0  "
      ]
     },
     "execution_count": 5,
     "metadata": {},
     "output_type": "execute_result"
    }
   ],
   "source": [
    "#bottom 5 rows\n",
    "df.tail()"
   ]
  },
  {
   "cell_type": "code",
   "execution_count": 6,
   "id": "korean-afghanistan",
   "metadata": {
    "execution": {
     "iopub.execute_input": "2023-01-15T09:34:41.387840Z",
     "iopub.status.busy": "2023-01-15T09:34:41.387100Z",
     "iopub.status.idle": "2023-01-15T09:34:41.393132Z",
     "shell.execute_reply": "2023-01-15T09:34:41.394116Z",
     "shell.execute_reply.started": "2022-08-11T07:20:01.751292Z"
    },
    "papermill": {
     "duration": 0.050713,
     "end_time": "2023-01-15T09:34:41.394391",
     "exception": false,
     "start_time": "2023-01-15T09:34:41.343678",
     "status": "completed"
    },
    "tags": []
   },
   "outputs": [
    {
     "name": "stdout",
     "output_type": "stream",
     "text": [
      "<class 'pandas.core.frame.DataFrame'>\n",
      "RangeIndex: 303 entries, 0 to 302\n",
      "Data columns (total 14 columns):\n",
      " #   Column    Non-Null Count  Dtype  \n",
      "---  ------    --------------  -----  \n",
      " 0   age       303 non-null    int64  \n",
      " 1   sex       303 non-null    int64  \n",
      " 2   cp        303 non-null    int64  \n",
      " 3   trtbps    303 non-null    int64  \n",
      " 4   chol      303 non-null    int64  \n",
      " 5   fbs       303 non-null    int64  \n",
      " 6   restecg   303 non-null    int64  \n",
      " 7   thalachh  303 non-null    int64  \n",
      " 8   exng      303 non-null    int64  \n",
      " 9   oldpeak   303 non-null    float64\n",
      " 10  slp       303 non-null    int64  \n",
      " 11  caa       303 non-null    int64  \n",
      " 12  thall     303 non-null    int64  \n",
      " 13  output    303 non-null    int64  \n",
      "dtypes: float64(1), int64(13)\n",
      "memory usage: 33.3 KB\n"
     ]
    }
   ],
   "source": [
    "#data types and lengths\n",
    "df.info()"
   ]
  },
  {
   "cell_type": "code",
   "execution_count": 7,
   "id": "straight-consensus",
   "metadata": {
    "execution": {
     "iopub.execute_input": "2023-01-15T09:34:41.443264Z",
     "iopub.status.busy": "2023-01-15T09:34:41.442588Z",
     "iopub.status.idle": "2023-01-15T09:34:41.449964Z",
     "shell.execute_reply": "2023-01-15T09:34:41.451369Z",
     "shell.execute_reply.started": "2022-08-11T07:20:01.774575Z"
    },
    "papermill": {
     "duration": 0.033153,
     "end_time": "2023-01-15T09:34:41.451646",
     "exception": false,
     "start_time": "2023-01-15T09:34:41.418493",
     "status": "completed"
    },
    "tags": []
   },
   "outputs": [
    {
     "data": {
      "text/plain": [
       "Index(['age', 'sex', 'cp', 'trtbps', 'chol', 'fbs', 'restecg', 'thalachh',\n",
       "       'exng', 'oldpeak', 'slp', 'caa', 'thall', 'output'],\n",
       "      dtype='object')"
      ]
     },
     "execution_count": 7,
     "metadata": {},
     "output_type": "execute_result"
    }
   ],
   "source": [
    "#keys of dataframe\n",
    "df.keys()"
   ]
  },
  {
   "cell_type": "code",
   "execution_count": 8,
   "id": "hearing-fundamentals",
   "metadata": {
    "execution": {
     "iopub.execute_input": "2023-01-15T09:34:41.503274Z",
     "iopub.status.busy": "2023-01-15T09:34:41.502485Z",
     "iopub.status.idle": "2023-01-15T09:34:41.506125Z",
     "shell.execute_reply": "2023-01-15T09:34:41.505608Z",
     "shell.execute_reply.started": "2022-08-11T07:20:01.787918Z"
    },
    "papermill": {
     "duration": 0.032427,
     "end_time": "2023-01-15T09:34:41.506278",
     "exception": false,
     "start_time": "2023-01-15T09:34:41.473851",
     "status": "completed"
    },
    "tags": []
   },
   "outputs": [
    {
     "data": {
      "text/plain": [
       "age          54.366337\n",
       "sex           0.683168\n",
       "cp            0.966997\n",
       "trtbps      131.623762\n",
       "chol        246.264026\n",
       "fbs           0.148515\n",
       "restecg       0.528053\n",
       "thalachh    149.646865\n",
       "exng          0.326733\n",
       "oldpeak       1.039604\n",
       "slp           1.399340\n",
       "caa           0.729373\n",
       "thall         2.313531\n",
       "output        0.544554\n",
       "dtype: float64"
      ]
     },
     "execution_count": 8,
     "metadata": {},
     "output_type": "execute_result"
    }
   ],
   "source": [
    "#mean of each column\n",
    "df.mean()"
   ]
  },
  {
   "cell_type": "code",
   "execution_count": 9,
   "id": "employed-owner",
   "metadata": {
    "execution": {
     "iopub.execute_input": "2023-01-15T09:34:41.557737Z",
     "iopub.status.busy": "2023-01-15T09:34:41.556713Z",
     "iopub.status.idle": "2023-01-15T09:34:41.560491Z",
     "shell.execute_reply": "2023-01-15T09:34:41.560935Z",
     "shell.execute_reply.started": "2022-08-11T07:20:01.805402Z"
    },
    "papermill": {
     "duration": 0.033291,
     "end_time": "2023-01-15T09:34:41.561134",
     "exception": false,
     "start_time": "2023-01-15T09:34:41.527843",
     "status": "completed"
    },
    "tags": []
   },
   "outputs": [
    {
     "data": {
      "text/plain": [
       "age         0\n",
       "sex         0\n",
       "cp          0\n",
       "trtbps      0\n",
       "chol        0\n",
       "fbs         0\n",
       "restecg     0\n",
       "thalachh    0\n",
       "exng        0\n",
       "oldpeak     0\n",
       "slp         0\n",
       "caa         0\n",
       "thall       0\n",
       "output      0\n",
       "dtype: int64"
      ]
     },
     "execution_count": 9,
     "metadata": {},
     "output_type": "execute_result"
    }
   ],
   "source": [
    "#looking for null values\n",
    "df.isnull().sum()"
   ]
  },
  {
   "cell_type": "code",
   "execution_count": 10,
   "id": "productive-turner",
   "metadata": {
    "execution": {
     "iopub.execute_input": "2023-01-15T09:34:41.611891Z",
     "iopub.status.busy": "2023-01-15T09:34:41.610943Z",
     "iopub.status.idle": "2023-01-15T09:34:41.614223Z",
     "shell.execute_reply": "2023-01-15T09:34:41.613665Z",
     "shell.execute_reply.started": "2022-08-11T07:20:01.819020Z"
    },
    "papermill": {
     "duration": 0.030828,
     "end_time": "2023-01-15T09:34:41.614365",
     "exception": false,
     "start_time": "2023-01-15T09:34:41.583537",
     "status": "completed"
    },
    "tags": []
   },
   "outputs": [],
   "source": [
    "#splitting columns for understanding\n",
    "categorical = ['sex', 'cp', 'fbs', 'restecg', 'exng', 'slp', 'caa', 'thall', 'output']\n",
    "numerical = ['age', 'trtbps', 'chol', 'thalachh', 'oldpeak']"
   ]
  },
  {
   "cell_type": "markdown",
   "id": "mature-creation",
   "metadata": {
    "papermill": {
     "duration": 0.02167,
     "end_time": "2023-01-15T09:34:41.658313",
     "exception": false,
     "start_time": "2023-01-15T09:34:41.636643",
     "status": "completed"
    },
    "tags": []
   },
   "source": [
    "# VISUALIZATION"
   ]
  },
  {
   "cell_type": "code",
   "execution_count": 11,
   "id": "automatic-breed",
   "metadata": {
    "execution": {
     "iopub.execute_input": "2023-01-15T09:34:41.707266Z",
     "iopub.status.busy": "2023-01-15T09:34:41.706611Z",
     "iopub.status.idle": "2023-01-15T09:34:43.326818Z",
     "shell.execute_reply": "2023-01-15T09:34:43.327318Z",
     "shell.execute_reply.started": "2022-08-11T07:20:01.834120Z"
    },
    "papermill": {
     "duration": 1.64531,
     "end_time": "2023-01-15T09:34:43.327508",
     "exception": false,
     "start_time": "2023-01-15T09:34:41.682198",
     "status": "completed"
    },
    "tags": []
   },
   "outputs": [
    {
     "name": "stderr",
     "output_type": "stream",
     "text": [
      "/opt/conda/lib/python3.7/site-packages/pandas/plotting/_matplotlib/tools.py:400: MatplotlibDeprecationWarning: \n",
      "The is_first_col function was deprecated in Matplotlib 3.4 and will be removed two minor releases later. Use ax.get_subplotspec().is_first_col() instead.\n",
      "  if ax.is_first_col():\n"
     ]
    },
    {
     "data": {
      "text/plain": [
       "array([[<AxesSubplot:title={'center':'age'}>,\n",
       "        <AxesSubplot:title={'center':'sex'}>,\n",
       "        <AxesSubplot:title={'center':'cp'}>,\n",
       "        <AxesSubplot:title={'center':'trtbps'}>,\n",
       "        <AxesSubplot:title={'center':'chol'}>,\n",
       "        <AxesSubplot:title={'center':'fbs'}>,\n",
       "        <AxesSubplot:title={'center':'restecg'}>,\n",
       "        <AxesSubplot:title={'center':'thalachh'}>,\n",
       "        <AxesSubplot:title={'center':'exng'}>,\n",
       "        <AxesSubplot:title={'center':'oldpeak'}>,\n",
       "        <AxesSubplot:title={'center':'slp'}>,\n",
       "        <AxesSubplot:title={'center':'caa'}>,\n",
       "        <AxesSubplot:title={'center':'thall'}>,\n",
       "        <AxesSubplot:title={'center':'output'}>]], dtype=object)"
      ]
     },
     "execution_count": 11,
     "metadata": {},
     "output_type": "execute_result"
    },
    {
     "data": {
      "image/png": "[encoded data removed]",
      "text/plain": [
       "<Figure size 2160x144 with 14 Axes>"
      ]
     },
     "metadata": {
      "needs_background": "light"
     },
     "output_type": "display_data"
    }
   ],
   "source": [
    "#grid of value distributions\n",
    "df.hist(layout = (1, 14), figsize = (30, 2), ylabelsize = 0, bins=10)"
   ]
  },
  {
   "cell_type": "code",
   "execution_count": 12,
   "id": "dedicated-admission",
   "metadata": {
    "execution": {
     "iopub.execute_input": "2023-01-15T09:34:43.378091Z",
     "iopub.status.busy": "2023-01-15T09:34:43.377425Z",
     "iopub.status.idle": "2023-01-15T09:34:44.494710Z",
     "shell.execute_reply": "2023-01-15T09:34:44.495226Z",
     "shell.execute_reply.started": "2022-08-11T07:20:03.687197Z"
    },
    "papermill": {
     "duration": 1.144141,
     "end_time": "2023-01-15T09:34:44.495404",
     "exception": false,
     "start_time": "2023-01-15T09:34:43.351263",
     "status": "completed"
    },
    "tags": []
   },
   "outputs": [
    {
     "data": {
      "text/plain": [
       "<AxesSubplot:>"
      ]
     },
     "execution_count": 12,
     "metadata": {},
     "output_type": "execute_result"
    },
    {
     "data": {
      "image/png": "[encoded data removed]",
      "text/plain": [
       "<Figure size 1440x720 with 2 Axes>"
      ]
     },
     "metadata": {
      "needs_background": "light"
     },
     "output_type": "display_data"
    }
   ],
   "source": [
    "#heatmap of correlations\n",
    "corr = df.corr()\n",
    "plt.figure(figsize = (20, 10))\n",
    "sns.heatmap(corr, annot = True, )"
   ]
  },
  {
   "cell_type": "code",
   "execution_count": 13,
   "id": "informational-pledge",
   "metadata": {
    "execution": {
     "iopub.execute_input": "2023-01-15T09:34:44.558314Z",
     "iopub.status.busy": "2023-01-15T09:34:44.557572Z",
     "iopub.status.idle": "2023-01-15T09:34:44.886532Z",
     "shell.execute_reply": "2023-01-15T09:34:44.886998Z",
     "shell.execute_reply.started": "2022-08-11T07:20:04.849662Z"
    },
    "papermill": {
     "duration": 0.363047,
     "end_time": "2023-01-15T09:34:44.887209",
     "exception": false,
     "start_time": "2023-01-15T09:34:44.524162",
     "status": "completed"
    },
    "tags": []
   },
   "outputs": [
    {
     "data": {
      "image/png": "[encoded data removed]",
      "text/plain": [
       "<Figure size 1440x720 with 2 Axes>"
      ]
     },
     "metadata": {
      "needs_background": "light"
     },
     "output_type": "display_data"
    }
   ],
   "source": [
    "#heatmap of only target variable correlation\n",
    "outputcorr = df.corr()['output']\n",
    "plt.figure(figsize=(20, 10))\n",
    "plt.title = 'Output Heatmap'\n",
    "\n",
    "arx = np.array(outputcorr)\n",
    "arx = arx.reshape(1, 14)\n",
    "\n",
    "sns.heatmap(arx, annot = True)\n",
    "ticks = range(0,14)\n",
    "labels = df.columns\n",
    "plt = plt.xticks(ticks, labels)"
   ]
  },
  {
   "cell_type": "code",
   "execution_count": 14,
   "id": "super-carbon",
   "metadata": {
    "execution": {
     "iopub.execute_input": "2023-01-15T09:34:44.949803Z",
     "iopub.status.busy": "2023-01-15T09:34:44.949160Z",
     "iopub.status.idle": "2023-01-15T09:34:45.255779Z",
     "shell.execute_reply": "2023-01-15T09:34:45.254931Z",
     "shell.execute_reply.started": "2022-08-11T07:20:05.237931Z"
    },
    "papermill": {
     "duration": 0.34073,
     "end_time": "2023-01-15T09:34:45.255938",
     "exception": false,
     "start_time": "2023-01-15T09:34:44.915208",
     "status": "completed"
    },
    "tags": []
   },
   "outputs": [
    {
     "name": "stderr",
     "output_type": "stream",
     "text": [
      "/opt/conda/lib/python3.7/site-packages/seaborn/distributions.py:2557: FutureWarning: `distplot` is a deprecated function and will be removed in a future version. Please adapt your code to use either `displot` (a figure-level function with similar flexibility) or `histplot` (an axes-level function for histograms).\n",
      "  warnings.warn(msg, FutureWarning)\n"
     ]
    },
    {
     "data": {
      "text/plain": [
       "<AxesSubplot:xlabel='thalachh', ylabel='Density'>"
      ]
     },
     "execution_count": 14,
     "metadata": {},
     "output_type": "execute_result"
    },
    {
     "data": {
      "image/png": "[encoded data removed]",
      "text/plain": [
       "<Figure size 576x360 with 1 Axes>"
      ]
     },
     "metadata": {},
     "output_type": "display_data"
    }
   ],
   "source": [
    "#thalachh distplot\n",
    "sns.set(style='whitegrid', palette=\"deep\", font_scale=1.1, rc={\"figure.figsize\": [8, 5]})\n",
    "sns.distplot(df['thalachh'], bins = 20, kde = True)"
   ]
  },
  {
   "cell_type": "code",
   "execution_count": 15,
   "id": "powered-pittsburgh",
   "metadata": {
    "execution": {
     "iopub.execute_input": "2023-01-15T09:34:45.320476Z",
     "iopub.status.busy": "2023-01-15T09:34:45.319513Z",
     "iopub.status.idle": "2023-01-15T09:34:45.539158Z",
     "shell.execute_reply": "2023-01-15T09:34:45.538556Z",
     "shell.execute_reply.started": "2022-08-11T07:20:05.515388Z"
    },
    "papermill": {
     "duration": 0.252819,
     "end_time": "2023-01-15T09:34:45.539299",
     "exception": false,
     "start_time": "2023-01-15T09:34:45.286480",
     "status": "completed"
    },
    "tags": []
   },
   "outputs": [
    {
     "name": "stderr",
     "output_type": "stream",
     "text": [
      "/opt/conda/lib/python3.7/site-packages/seaborn/distributions.py:2557: FutureWarning: `distplot` is a deprecated function and will be removed in a future version. Please adapt your code to use either `displot` (a figure-level function with similar flexibility) or `histplot` (an axes-level function for histograms).\n",
      "  warnings.warn(msg, FutureWarning)\n"
     ]
    },
    {
     "data": {
      "text/plain": [
       "<AxesSubplot:xlabel='oldpeak', ylabel='Density'>"
      ]
     },
     "execution_count": 15,
     "metadata": {},
     "output_type": "execute_result"
    },
    {
     "data": {
      "image/png": "[encoded data removed]",
      "text/plain": [
       "<Figure size 576x360 with 1 Axes>"
      ]
     },
     "metadata": {},
     "output_type": "display_data"
    }
   ],
   "source": [
    "#oldpeak distplot\n",
    "sns.set(style='whitegrid', palette=\"deep\", font_scale=1.1, rc={\"figure.figsize\": [8, 5]})\n",
    "sns.distplot(df['oldpeak'], bins = 20, kde = True)"
   ]
  },
  {
   "cell_type": "code",
   "execution_count": 16,
   "id": "hairy-circulation",
   "metadata": {
    "execution": {
     "iopub.execute_input": "2023-01-15T09:34:45.610081Z",
     "iopub.status.busy": "2023-01-15T09:34:45.609409Z",
     "iopub.status.idle": "2023-01-15T09:34:45.773164Z",
     "shell.execute_reply": "2023-01-15T09:34:45.772607Z",
     "shell.execute_reply.started": "2022-08-11T07:20:05.746595Z"
    },
    "papermill": {
     "duration": 0.202124,
     "end_time": "2023-01-15T09:34:45.773318",
     "exception": false,
     "start_time": "2023-01-15T09:34:45.571194",
     "status": "completed"
    },
    "tags": []
   },
   "outputs": [
    {
     "data": {
      "text/plain": [
       "<AxesSubplot:xlabel='thalachh'>"
      ]
     },
     "execution_count": 16,
     "metadata": {},
     "output_type": "execute_result"
    },
    {
     "data": {
      "image/png": "[encoded data removed]",
      "text/plain": [
       "<Figure size 576x360 with 1 Axes>"
      ]
     },
     "metadata": {},
     "output_type": "display_data"
    }
   ],
   "source": [
    "#outlier inspection\n",
    "sns.set_theme(style=\"whitegrid\")\n",
    "sns.boxplot(x=df[\"thalachh\"])"
   ]
  },
  {
   "cell_type": "code",
   "execution_count": 17,
   "id": "framed-holocaust",
   "metadata": {
    "execution": {
     "iopub.execute_input": "2023-01-15T09:34:45.870937Z",
     "iopub.status.busy": "2023-01-15T09:34:45.869360Z",
     "iopub.status.idle": "2023-01-15T09:34:45.996703Z",
     "shell.execute_reply": "2023-01-15T09:34:45.995919Z",
     "shell.execute_reply.started": "2022-08-11T07:20:05.917101Z"
    },
    "papermill": {
     "duration": 0.190363,
     "end_time": "2023-01-15T09:34:45.996854",
     "exception": false,
     "start_time": "2023-01-15T09:34:45.806491",
     "status": "completed"
    },
    "tags": []
   },
   "outputs": [
    {
     "data": {
      "text/plain": [
       "<AxesSubplot:xlabel='trtbps'>"
      ]
     },
     "execution_count": 17,
     "metadata": {},
     "output_type": "execute_result"
    },
    {
     "data": {
      "image/png": "[encoded data removed]",
      "text/plain": [
       "<Figure size 576x360 with 1 Axes>"
      ]
     },
     "metadata": {},
     "output_type": "display_data"
    }
   ],
   "source": [
    "sns.boxplot(x=df['trtbps'])"
   ]
  },
  {
   "cell_type": "code",
   "execution_count": 18,
   "id": "registered-offset",
   "metadata": {
    "execution": {
     "iopub.execute_input": "2023-01-15T09:34:46.081074Z",
     "iopub.status.busy": "2023-01-15T09:34:46.080088Z",
     "iopub.status.idle": "2023-01-15T09:34:46.084964Z",
     "shell.execute_reply": "2023-01-15T09:34:46.084423Z",
     "shell.execute_reply.started": "2022-08-11T07:20:06.078984Z"
    },
    "papermill": {
     "duration": 0.052886,
     "end_time": "2023-01-15T09:34:46.085125",
     "exception": false,
     "start_time": "2023-01-15T09:34:46.032239",
     "status": "completed"
    },
    "tags": []
   },
   "outputs": [
    {
     "data": {
      "text/html": [
       "<div>\n",
       "<style scoped>\n",
       "    .dataframe tbody tr th:only-of-type {\n",
       "        vertical-align: middle;\n",
       "    }\n",
       "\n",
       "    .dataframe tbody tr th {\n",
       "        vertical-align: top;\n",
       "    }\n",
       "\n",
       "    .dataframe thead th {\n",
       "        text-align: right;\n",
       "    }\n",
       "</style>\n",
       "<table border=\"1\" class=\"dataframe\">\n",
       "  <thead>\n",
       "    <tr style=\"text-align: right;\">\n",
       "      <th></th>\n",
       "      <th>age</th>\n",
       "      <th>sex</th>\n",
       "      <th>cp</th>\n",
       "      <th>trtbps</th>\n",
       "      <th>chol</th>\n",
       "      <th>fbs</th>\n",
       "      <th>restecg</th>\n",
       "      <th>thalachh</th>\n",
       "      <th>exng</th>\n",
       "      <th>oldpeak</th>\n",
       "      <th>slp</th>\n",
       "      <th>caa</th>\n",
       "      <th>thall</th>\n",
       "      <th>output</th>\n",
       "    </tr>\n",
       "  </thead>\n",
       "  <tbody>\n",
       "    <tr>\n",
       "      <th>223</th>\n",
       "      <td>56</td>\n",
       "      <td>0</td>\n",
       "      <td>0</td>\n",
       "      <td>200</td>\n",
       "      <td>288</td>\n",
       "      <td>1</td>\n",
       "      <td>0</td>\n",
       "      <td>133</td>\n",
       "      <td>1</td>\n",
       "      <td>4.0</td>\n",
       "      <td>0</td>\n",
       "      <td>2</td>\n",
       "      <td>3</td>\n",
       "      <td>0</td>\n",
       "    </tr>\n",
       "    <tr>\n",
       "      <th>248</th>\n",
       "      <td>54</td>\n",
       "      <td>1</td>\n",
       "      <td>1</td>\n",
       "      <td>192</td>\n",
       "      <td>283</td>\n",
       "      <td>0</td>\n",
       "      <td>0</td>\n",
       "      <td>195</td>\n",
       "      <td>0</td>\n",
       "      <td>0.0</td>\n",
       "      <td>2</td>\n",
       "      <td>1</td>\n",
       "      <td>3</td>\n",
       "      <td>0</td>\n",
       "    </tr>\n",
       "  </tbody>\n",
       "</table>\n",
       "</div>"
      ],
      "text/plain": [
       "     age  sex  cp  trtbps  chol  fbs  restecg  thalachh  exng  oldpeak  slp  \\\n",
       "223   56    0   0     200   288    1        0       133     1      4.0    0   \n",
       "248   54    1   1     192   283    0        0       195     0      0.0    2   \n",
       "\n",
       "     caa  thall  output  \n",
       "223    2      3       0  \n",
       "248    1      3       0  "
      ]
     },
     "execution_count": 18,
     "metadata": {},
     "output_type": "execute_result"
    }
   ],
   "source": [
    "#potential outliers\n",
    "df[df['trtbps'] > 180]"
   ]
  },
  {
   "cell_type": "code",
   "execution_count": 19,
   "id": "reduced-asbestos",
   "metadata": {
    "execution": {
     "iopub.execute_input": "2023-01-15T09:34:46.311278Z",
     "iopub.status.busy": "2023-01-15T09:34:46.295233Z",
     "iopub.status.idle": "2023-01-15T09:34:46.434960Z",
     "shell.execute_reply": "2023-01-15T09:34:46.434341Z",
     "shell.execute_reply.started": "2022-08-11T07:20:06.096530Z"
    },
    "papermill": {
     "duration": 0.315123,
     "end_time": "2023-01-15T09:34:46.435122",
     "exception": false,
     "start_time": "2023-01-15T09:34:46.119999",
     "status": "completed"
    },
    "tags": []
   },
   "outputs": [
    {
     "data": {
      "text/plain": [
       "<AxesSubplot:xlabel='age'>"
      ]
     },
     "execution_count": 19,
     "metadata": {},
     "output_type": "execute_result"
    },
    {
     "data": {
      "image/png": "[encoded data removed]",
      "text/plain": [
       "<Figure size 576x360 with 1 Axes>"
      ]
     },
     "metadata": {},
     "output_type": "display_data"
    }
   ],
   "source": [
    "#age\n",
    "sns.boxplot(x=df['age'])"
   ]
  },
  {
   "cell_type": "code",
   "execution_count": 20,
   "id": "patent-impossible",
   "metadata": {
    "execution": {
     "iopub.execute_input": "2023-01-15T09:34:46.550866Z",
     "iopub.status.busy": "2023-01-15T09:34:46.536952Z",
     "iopub.status.idle": "2023-01-15T09:34:47.021439Z",
     "shell.execute_reply": "2023-01-15T09:34:47.021898Z",
     "shell.execute_reply.started": "2022-08-11T07:20:06.250826Z"
    },
    "papermill": {
     "duration": 0.552437,
     "end_time": "2023-01-15T09:34:47.022101",
     "exception": false,
     "start_time": "2023-01-15T09:34:46.469664",
     "status": "completed"
    },
    "tags": []
   },
   "outputs": [
    {
     "data": {
      "image/png": "[encoded data removed]",
      "text/plain": [
       "<Figure size 432x432 with 3 Axes>"
      ]
     },
     "metadata": {},
     "output_type": "display_data"
    }
   ],
   "source": [
    "#jointplot with two most telling numerical variables\n",
    "sns.jointplot(x=df['thalachh'], y=df['oldpeak']);"
   ]
  },
  {
   "cell_type": "markdown",
   "id": "unlikely-cursor",
   "metadata": {
    "papermill": {
     "duration": 0.035029,
     "end_time": "2023-01-15T09:34:47.092362",
     "exception": false,
     "start_time": "2023-01-15T09:34:47.057333",
     "status": "completed"
    },
    "tags": []
   },
   "source": [
    "# PREDICTION "
   ]
  },
  {
   "cell_type": "code",
   "execution_count": 21,
   "id": "protecting-ground",
   "metadata": {
    "execution": {
     "iopub.execute_input": "2023-01-15T09:34:47.166809Z",
     "iopub.status.busy": "2023-01-15T09:34:47.166137Z",
     "iopub.status.idle": "2023-01-15T09:34:47.275233Z",
     "shell.execute_reply": "2023-01-15T09:34:47.274698Z",
     "shell.execute_reply.started": "2022-08-11T07:20:07.000148Z"
    },
    "papermill": {
     "duration": 0.14765,
     "end_time": "2023-01-15T09:34:47.275383",
     "exception": false,
     "start_time": "2023-01-15T09:34:47.127733",
     "status": "completed"
    },
    "tags": []
   },
   "outputs": [
    {
     "data": {
      "text/plain": [
       "0.5136858060344733"
      ]
     },
     "execution_count": 21,
     "metadata": {},
     "output_type": "execute_result"
    }
   ],
   "source": [
    "#linear regression for test\n",
    "from sklearn import linear_model\n",
    "\n",
    "X = df.drop(['output'] , axis = 1)\n",
    "y = df['output']\n",
    "X_train, X_test, y_train, y_test = train_test_split(X, y, test_size=0.25, random_state=42)\n",
    "lin = linear_model.LinearRegression()\n",
    "lin.fit(X_train, y_train)\n",
    "lin.score(X_test, y_test)"
   ]
  },
  {
   "cell_type": "code",
   "execution_count": 22,
   "id": "certain-return",
   "metadata": {
    "execution": {
     "iopub.execute_input": "2023-01-15T09:34:47.354834Z",
     "iopub.status.busy": "2023-01-15T09:34:47.353727Z",
     "iopub.status.idle": "2023-01-15T09:34:47.393529Z",
     "shell.execute_reply": "2023-01-15T09:34:47.394011Z",
     "shell.execute_reply.started": "2022-08-11T07:20:07.017896Z"
    },
    "papermill": {
     "duration": 0.082999,
     "end_time": "2023-01-15T09:34:47.394210",
     "exception": false,
     "start_time": "2023-01-15T09:34:47.311211",
     "status": "completed"
    },
    "tags": []
   },
   "outputs": [
    {
     "name": "stderr",
     "output_type": "stream",
     "text": [
      "/opt/conda/lib/python3.7/site-packages/sklearn/linear_model/_logistic.py:765: ConvergenceWarning: lbfgs failed to converge (status=1):\n",
      "STOP: TOTAL NO. of ITERATIONS REACHED LIMIT.\n",
      "\n",
      "Increase the number of iterations (max_iter) or scale the data as shown in:\n",
      "    https://scikit-learn.org/stable/modules/preprocessing.html\n",
      "Please also refer to the documentation for alternative solver options:\n",
      "    https://scikit-learn.org/stable/modules/linear_model.html#logistic-regression\n",
      "  extra_warning_msg=_LOGISTIC_SOLVER_CONVERGENCE_MSG)\n"
     ]
    },
    {
     "data": {
      "text/plain": [
       "0.881578947368421"
      ]
     },
     "execution_count": 22,
     "metadata": {},
     "output_type": "execute_result"
    }
   ],
   "source": [
    "from sklearn.linear_model import LogisticRegression\n",
    "logreg = LogisticRegression()\n",
    "logreg.fit(X_train, y_train)\n",
    "logreg.score(X_test, y_test)"
   ]
  },
  {
   "cell_type": "code",
   "execution_count": 23,
   "id": "regulated-indonesian",
   "metadata": {
    "execution": {
     "iopub.execute_input": "2023-01-15T09:34:47.476730Z",
     "iopub.status.busy": "2023-01-15T09:34:47.475683Z",
     "iopub.status.idle": "2023-01-15T09:34:47.489135Z",
     "shell.execute_reply": "2023-01-15T09:34:47.489628Z",
     "shell.execute_reply.started": "2022-08-11T07:20:07.068902Z"
    },
    "papermill": {
     "duration": 0.058797,
     "end_time": "2023-01-15T09:34:47.489814",
     "exception": false,
     "start_time": "2023-01-15T09:34:47.431017",
     "status": "completed"
    },
    "tags": []
   },
   "outputs": [
    {
     "data": {
      "text/plain": [
       "0.881578947368421"
      ]
     },
     "execution_count": 23,
     "metadata": {},
     "output_type": "execute_result"
    }
   ],
   "source": [
    "X = df.drop(['output'] , axis = 1)\n",
    "y = df['output']\n",
    "X_train, X_test, y_train, y_test = train_test_split(X, y, test_size=0.25, random_state=42)\n",
    "\n",
    "from sklearn.naive_bayes import GaussianNB\n",
    "naive_bayes = GaussianNB()\n",
    "naive_bayes.fit(X_train, y_train)\n",
    "naive_bayes.score(X_test, y_test)"
   ]
  },
  {
   "cell_type": "code",
   "execution_count": 24,
   "id": "controversial-might",
   "metadata": {
    "execution": {
     "iopub.execute_input": "2023-01-15T09:34:47.570386Z",
     "iopub.status.busy": "2023-01-15T09:34:47.569725Z",
     "iopub.status.idle": "2023-01-15T09:34:47.584425Z",
     "shell.execute_reply": "2023-01-15T09:34:47.585558Z",
     "shell.execute_reply.started": "2022-08-11T07:20:07.088832Z"
    },
    "papermill": {
     "duration": 0.059118,
     "end_time": "2023-01-15T09:34:47.585880",
     "exception": false,
     "start_time": "2023-01-15T09:34:47.526762",
     "status": "completed"
    },
    "tags": []
   },
   "outputs": [
    {
     "data": {
      "text/plain": [
       "-0.00018512629436440164"
      ]
     },
     "execution_count": 24,
     "metadata": {},
     "output_type": "execute_result"
    }
   ],
   "source": [
    "#lasso Least angle regression\n",
    "from sklearn import linear_model\n",
    "lassolars = linear_model.LassoLars(alpha=.1)\n",
    "lassolars.fit(X_train, y_train)\n",
    "lassolars.score(X_test, y_test)"
   ]
  },
  {
   "cell_type": "code",
   "execution_count": 25,
   "id": "accepting-recruitment",
   "metadata": {
    "execution": {
     "iopub.execute_input": "2023-01-15T09:34:47.673154Z",
     "iopub.status.busy": "2023-01-15T09:34:47.672209Z",
     "iopub.status.idle": "2023-01-15T09:34:47.777114Z",
     "shell.execute_reply": "2023-01-15T09:34:47.776460Z",
     "shell.execute_reply.started": "2022-08-11T07:20:07.106268Z"
    },
    "papermill": {
     "duration": 0.145034,
     "end_time": "2023-01-15T09:34:47.777257",
     "exception": false,
     "start_time": "2023-01-15T09:34:47.632223",
     "status": "completed"
    },
    "tags": []
   },
   "outputs": [
    {
     "data": {
      "text/plain": [
       "0.7763157894736842"
      ]
     },
     "execution_count": 25,
     "metadata": {},
     "output_type": "execute_result"
    }
   ],
   "source": [
    "#decision tree classifier test\n",
    "from sklearn.tree import DecisionTreeClassifier\n",
    "tree = DecisionTreeClassifier()\n",
    "tree.fit(X_train, y_train)\n",
    "tree.score(X_test, y_test)"
   ]
  }
 ],
 "metadata": {
  "kernelspec": {
   "display_name": "Python 3",
   "language": "python",
   "name": "python3"
  },
  "language_info": {
   "codemirror_mode": {
    "name": "ipython",
    "version": 3
   },
   "file_extension": ".py",
   "mimetype": "text/x-python",
   "name": "python",
   "nbconvert_exporter": "python",
   "pygments_lexer": "ipython3",
   "version": "3.7.10"
  },
  "papermill": {
   "default_parameters": {},
   "duration": 16.807446,
   "end_time": "2023-01-15T09:34:49.233395",
   "environment_variables": {},
   "exception": null,
   "input_path": "__notebook__.ipynb",
   "output_path": "__notebook__.ipynb",
   "parameters": {},
   "start_time": "2023-01-15T09:34:32.425949",
   "version": "2.3.3"
  }
 },
 "nbformat": 4,
 "nbformat_minor": 5
}
