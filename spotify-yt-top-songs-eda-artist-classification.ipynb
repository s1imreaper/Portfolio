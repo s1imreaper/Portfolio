{
 "cells": [
  {
   "cell_type": "code",
   "execution_count": 1,
   "id": "adc442a8",
   "metadata": {
    "_cell_guid": "b1076dfc-b9ad-4769-8c92-a6c4dae69d19",
    "_uuid": "8f2839f25d086af736a60e9eeb907d3b93b6e0e5",
    "execution": {
     "iopub.execute_input": "2023-04-01T22:41:19.328511Z",
     "iopub.status.busy": "2023-04-01T22:41:19.327276Z",
     "iopub.status.idle": "2023-04-01T22:41:22.925088Z",
     "shell.execute_reply": "2023-04-01T22:41:22.923251Z"
    },
    "papermill": {
     "duration": 3.619972,
     "end_time": "2023-04-01T22:41:22.928316",
     "exception": false,
     "start_time": "2023-04-01T22:41:19.308344",
     "status": "completed"
    },
    "tags": []
   },
   "outputs": [
    {
     "name": "stdout",
     "output_type": "stream",
     "text": [
      "/kaggle/input/spotify-and-youtube/Spotify_Youtube.csv\n"
     ]
    }
   ],
   "source": [
    "# This Python 3 environment comes with many helpful analytics libraries installed\n",
    "# It is defined by the kaggle/python Docker image: https://github.com/kaggle/docker-python\n",
    "# For example, here's several helpful packages to load\n",
    "\n",
    "import numpy as np # linear algebra\n",
    "import pandas as pd # data processing, CSV file I/O (e.g. pd.read_csv)\n",
    "import seaborn as sns\n",
    "from sklearn.preprocessing import OneHotEncoder\n",
    "import plotly.express as px\n",
    "import matplotlib.pyplot as plt\n",
    "import numpy as np\n",
    "from sklearn.linear_model import LogisticRegression\n",
    "from sklearn.metrics import classification_report, confusion_matrix\n",
    "from sklearn.model_selection import train_test_split\n",
    "from sklearn import tree\n",
    "from sklearn.neighbors import KNeighborsClassifier\n",
    "\n",
    "# Input data files are available in the read-only \"../input/\" directory\n",
    "# For example, running this (by clicking run or pressing Shift+Enter) will list all files under the input directory\n",
    "\n",
    "import os\n",
    "for dirname, _, filenames in os.walk('/kaggle/input'):\n",
    "    for filename in filenames:\n",
    "        print(os.path.join(dirname, filename))\n",
    "\n",
    "# You can write up to 20GB to the current directory (/kaggle/working/) that gets preserved as output when you create a version using \"Save & Run All\" \n",
    "# You can also write temporary files to /kaggle/temp/, but they won't be saved outside of the current session"
   ]
  },
  {
   "cell_type": "code",
   "execution_count": 2,
   "id": "217ab043",
   "metadata": {
    "execution": {
     "iopub.execute_input": "2023-04-01T22:41:22.962163Z",
     "iopub.status.busy": "2023-04-01T22:41:22.961727Z",
     "iopub.status.idle": "2023-04-01T22:41:23.882846Z",
     "shell.execute_reply": "2023-04-01T22:41:23.881319Z"
    },
    "papermill": {
     "duration": 0.941892,
     "end_time": "2023-04-01T22:41:23.886139",
     "exception": false,
     "start_time": "2023-04-01T22:41:22.944247",
     "status": "completed"
    },
    "tags": []
   },
   "outputs": [],
   "source": [
    "#reading the data\n",
    "df = pd.read_csv('/kaggle/input/spotify-and-youtube/Spotify_Youtube.csv')"
   ]
  },
  {
   "cell_type": "code",
   "execution_count": 3,
   "id": "ab6543a4",
   "metadata": {
    "execution": {
     "iopub.execute_input": "2023-04-01T22:41:23.918776Z",
     "iopub.status.busy": "2023-04-01T22:41:23.918308Z",
     "iopub.status.idle": "2023-04-01T22:41:23.968054Z",
     "shell.execute_reply": "2023-04-01T22:41:23.966651Z"
    },
    "papermill": {
     "duration": 0.069302,
     "end_time": "2023-04-01T22:41:23.970798",
     "exception": false,
     "start_time": "2023-04-01T22:41:23.901496",
     "status": "completed"
    },
    "tags": []
   },
   "outputs": [
    {
     "data": {
      "text/html": [
       "<div>\n",
       "<style scoped>\n",
       "    .dataframe tbody tr th:only-of-type {\n",
       "        vertical-align: middle;\n",
       "    }\n",
       "\n",
       "    .dataframe tbody tr th {\n",
       "        vertical-align: top;\n",
       "    }\n",
       "\n",
       "    .dataframe thead th {\n",
       "        text-align: right;\n",
       "    }\n",
       "</style>\n",
       "<table border=\"1\" class=\"dataframe\">\n",
       "  <thead>\n",
       "    <tr style=\"text-align: right;\">\n",
       "      <th></th>\n",
       "      <th>Unnamed: 0</th>\n",
       "      <th>Artist</th>\n",
       "      <th>Url_spotify</th>\n",
       "      <th>Track</th>\n",
       "      <th>Album</th>\n",
       "      <th>Album_type</th>\n",
       "      <th>Uri</th>\n",
       "      <th>Danceability</th>\n",
       "      <th>Energy</th>\n",
       "      <th>Key</th>\n",
       "      <th>...</th>\n",
       "      <th>Url_youtube</th>\n",
       "      <th>Title</th>\n",
       "      <th>Channel</th>\n",
       "      <th>Views</th>\n",
       "      <th>Likes</th>\n",
       "      <th>Comments</th>\n",
       "      <th>Description</th>\n",
       "      <th>Licensed</th>\n",
       "      <th>official_video</th>\n",
       "      <th>Stream</th>\n",
       "    </tr>\n",
       "  </thead>\n",
       "  <tbody>\n",
       "    <tr>\n",
       "      <th>0</th>\n",
       "      <td>0</td>\n",
       "      <td>Gorillaz</td>\n",
       "      <td>https://open.spotify.com/artist/3AA28KZvwAUcZu...</td>\n",
       "      <td>Feel Good Inc.</td>\n",
       "      <td>Demon Days</td>\n",
       "      <td>album</td>\n",
       "      <td>spotify:track:0d28khcov6AiegSCpG5TuT</td>\n",
       "      <td>0.818</td>\n",
       "      <td>0.705</td>\n",
       "      <td>6.0</td>\n",
       "      <td>...</td>\n",
       "      <td>https://www.youtube.com/watch?v=HyHNuVaZJ-k</td>\n",
       "      <td>Gorillaz - Feel Good Inc. (Official Video)</td>\n",
       "      <td>Gorillaz</td>\n",
       "      <td>693555221.0</td>\n",
       "      <td>6220896.0</td>\n",
       "      <td>169907.0</td>\n",
       "      <td>Official HD Video for Gorillaz' fantastic trac...</td>\n",
       "      <td>True</td>\n",
       "      <td>True</td>\n",
       "      <td>1.040235e+09</td>\n",
       "    </tr>\n",
       "    <tr>\n",
       "      <th>1</th>\n",
       "      <td>1</td>\n",
       "      <td>Gorillaz</td>\n",
       "      <td>https://open.spotify.com/artist/3AA28KZvwAUcZu...</td>\n",
       "      <td>Rhinestone Eyes</td>\n",
       "      <td>Plastic Beach</td>\n",
       "      <td>album</td>\n",
       "      <td>spotify:track:1foMv2HQwfQ2vntFf9HFeG</td>\n",
       "      <td>0.676</td>\n",
       "      <td>0.703</td>\n",
       "      <td>8.0</td>\n",
       "      <td>...</td>\n",
       "      <td>https://www.youtube.com/watch?v=yYDmaexVHic</td>\n",
       "      <td>Gorillaz - Rhinestone Eyes [Storyboard Film] (...</td>\n",
       "      <td>Gorillaz</td>\n",
       "      <td>72011645.0</td>\n",
       "      <td>1079128.0</td>\n",
       "      <td>31003.0</td>\n",
       "      <td>The official video for Gorillaz - Rhinestone E...</td>\n",
       "      <td>True</td>\n",
       "      <td>True</td>\n",
       "      <td>3.100837e+08</td>\n",
       "    </tr>\n",
       "    <tr>\n",
       "      <th>2</th>\n",
       "      <td>2</td>\n",
       "      <td>Gorillaz</td>\n",
       "      <td>https://open.spotify.com/artist/3AA28KZvwAUcZu...</td>\n",
       "      <td>New Gold (feat. Tame Impala and Bootie Brown)</td>\n",
       "      <td>New Gold (feat. Tame Impala and Bootie Brown)</td>\n",
       "      <td>single</td>\n",
       "      <td>spotify:track:64dLd6rVqDLtkXFYrEUHIU</td>\n",
       "      <td>0.695</td>\n",
       "      <td>0.923</td>\n",
       "      <td>1.0</td>\n",
       "      <td>...</td>\n",
       "      <td>https://www.youtube.com/watch?v=qJa-VFwPpYA</td>\n",
       "      <td>Gorillaz - New Gold ft. Tame Impala &amp; Bootie B...</td>\n",
       "      <td>Gorillaz</td>\n",
       "      <td>8435055.0</td>\n",
       "      <td>282142.0</td>\n",
       "      <td>7399.0</td>\n",
       "      <td>Gorillaz - New Gold ft. Tame Impala &amp; Bootie B...</td>\n",
       "      <td>True</td>\n",
       "      <td>True</td>\n",
       "      <td>6.306347e+07</td>\n",
       "    </tr>\n",
       "  </tbody>\n",
       "</table>\n",
       "<p>3 rows × 28 columns</p>\n",
       "</div>"
      ],
      "text/plain": [
       "   Unnamed: 0    Artist                                        Url_spotify  \\\n",
       "0           0  Gorillaz  https://open.spotify.com/artist/3AA28KZvwAUcZu...   \n",
       "1           1  Gorillaz  https://open.spotify.com/artist/3AA28KZvwAUcZu...   \n",
       "2           2  Gorillaz  https://open.spotify.com/artist/3AA28KZvwAUcZu...   \n",
       "\n",
       "                                           Track  \\\n",
       "0                                 Feel Good Inc.   \n",
       "1                                Rhinestone Eyes   \n",
       "2  New Gold (feat. Tame Impala and Bootie Brown)   \n",
       "\n",
       "                                           Album Album_type  \\\n",
       "0                                     Demon Days      album   \n",
       "1                                  Plastic Beach      album   \n",
       "2  New Gold (feat. Tame Impala and Bootie Brown)     single   \n",
       "\n",
       "                                    Uri  Danceability  Energy  Key  ...  \\\n",
       "0  spotify:track:0d28khcov6AiegSCpG5TuT         0.818   0.705  6.0  ...   \n",
       "1  spotify:track:1foMv2HQwfQ2vntFf9HFeG         0.676   0.703  8.0  ...   \n",
       "2  spotify:track:64dLd6rVqDLtkXFYrEUHIU         0.695   0.923  1.0  ...   \n",
       "\n",
       "                                   Url_youtube  \\\n",
       "0  https://www.youtube.com/watch?v=HyHNuVaZJ-k   \n",
       "1  https://www.youtube.com/watch?v=yYDmaexVHic   \n",
       "2  https://www.youtube.com/watch?v=qJa-VFwPpYA   \n",
       "\n",
       "                                               Title   Channel        Views  \\\n",
       "0         Gorillaz - Feel Good Inc. (Official Video)  Gorillaz  693555221.0   \n",
       "1  Gorillaz - Rhinestone Eyes [Storyboard Film] (...  Gorillaz   72011645.0   \n",
       "2  Gorillaz - New Gold ft. Tame Impala & Bootie B...  Gorillaz    8435055.0   \n",
       "\n",
       "       Likes  Comments                                        Description  \\\n",
       "0  6220896.0  169907.0  Official HD Video for Gorillaz' fantastic trac...   \n",
       "1  1079128.0   31003.0  The official video for Gorillaz - Rhinestone E...   \n",
       "2   282142.0    7399.0  Gorillaz - New Gold ft. Tame Impala & Bootie B...   \n",
       "\n",
       "   Licensed official_video        Stream  \n",
       "0      True           True  1.040235e+09  \n",
       "1      True           True  3.100837e+08  \n",
       "2      True           True  6.306347e+07  \n",
       "\n",
       "[3 rows x 28 columns]"
      ]
     },
     "execution_count": 3,
     "metadata": {},
     "output_type": "execute_result"
    }
   ],
   "source": [
    "#viewing the data\n",
    "df.head(3)"
   ]
  },
  {
   "cell_type": "code",
   "execution_count": 4,
   "id": "23406781",
   "metadata": {
    "execution": {
     "iopub.execute_input": "2023-04-01T22:41:24.004746Z",
     "iopub.status.busy": "2023-04-01T22:41:24.004323Z",
     "iopub.status.idle": "2023-04-01T22:41:24.046586Z",
     "shell.execute_reply": "2023-04-01T22:41:24.045603Z"
    },
    "papermill": {
     "duration": 0.062404,
     "end_time": "2023-04-01T22:41:24.049835",
     "exception": false,
     "start_time": "2023-04-01T22:41:23.987431",
     "status": "completed"
    },
    "tags": []
   },
   "outputs": [
    {
     "name": "stdout",
     "output_type": "stream",
     "text": [
      "<class 'pandas.core.frame.DataFrame'>\n",
      "RangeIndex: 20718 entries, 0 to 20717\n",
      "Data columns (total 28 columns):\n",
      " #   Column            Non-Null Count  Dtype  \n",
      "---  ------            --------------  -----  \n",
      " 0   Unnamed: 0        20718 non-null  int64  \n",
      " 1   Artist            20718 non-null  object \n",
      " 2   Url_spotify       20718 non-null  object \n",
      " 3   Track             20718 non-null  object \n",
      " 4   Album             20718 non-null  object \n",
      " 5   Album_type        20718 non-null  object \n",
      " 6   Uri               20718 non-null  object \n",
      " 7   Danceability      20716 non-null  float64\n",
      " 8   Energy            20716 non-null  float64\n",
      " 9   Key               20716 non-null  float64\n",
      " 10  Loudness          20716 non-null  float64\n",
      " 11  Speechiness       20716 non-null  float64\n",
      " 12  Acousticness      20716 non-null  float64\n",
      " 13  Instrumentalness  20716 non-null  float64\n",
      " 14  Liveness          20716 non-null  float64\n",
      " 15  Valence           20716 non-null  float64\n",
      " 16  Tempo             20716 non-null  float64\n",
      " 17  Duration_ms       20716 non-null  float64\n",
      " 18  Url_youtube       20248 non-null  object \n",
      " 19  Title             20248 non-null  object \n",
      " 20  Channel           20248 non-null  object \n",
      " 21  Views             20248 non-null  float64\n",
      " 22  Likes             20177 non-null  float64\n",
      " 23  Comments          20149 non-null  float64\n",
      " 24  Description       19842 non-null  object \n",
      " 25  Licensed          20248 non-null  object \n",
      " 26  official_video    20248 non-null  object \n",
      " 27  Stream            20142 non-null  float64\n",
      "dtypes: float64(15), int64(1), object(12)\n",
      "memory usage: 4.4+ MB\n"
     ]
    }
   ],
   "source": [
    "df.info()"
   ]
  },
  {
   "cell_type": "markdown",
   "id": "bcc92653",
   "metadata": {
    "papermill": {
     "duration": 0.01496,
     "end_time": "2023-04-01T22:41:24.081647",
     "exception": false,
     "start_time": "2023-04-01T22:41:24.066687",
     "status": "completed"
    },
    "tags": []
   },
   "source": [
    "# Processing the Data: "
   ]
  },
  {
   "cell_type": "code",
   "execution_count": 5,
   "id": "f24fd14b",
   "metadata": {
    "execution": {
     "iopub.execute_input": "2023-04-01T22:41:24.114919Z",
     "iopub.status.busy": "2023-04-01T22:41:24.114124Z",
     "iopub.status.idle": "2023-04-01T22:41:24.122687Z",
     "shell.execute_reply": "2023-04-01T22:41:24.121396Z"
    },
    "papermill": {
     "duration": 0.028683,
     "end_time": "2023-04-01T22:41:24.125762",
     "exception": false,
     "start_time": "2023-04-01T22:41:24.097079",
     "status": "completed"
    },
    "tags": []
   },
   "outputs": [],
   "source": [
    "df = df.drop(['Title', 'Url_spotify', 'Uri', 'Description', 'official_video', 'Channel', 'Url_youtube'], axis = 1)"
   ]
  },
  {
   "cell_type": "code",
   "execution_count": 6,
   "id": "92aa9b2e",
   "metadata": {
    "execution": {
     "iopub.execute_input": "2023-04-01T22:41:24.159115Z",
     "iopub.status.busy": "2023-04-01T22:41:24.157791Z",
     "iopub.status.idle": "2023-04-01T22:41:24.179363Z",
     "shell.execute_reply": "2023-04-01T22:41:24.177977Z"
    },
    "papermill": {
     "duration": 0.041147,
     "end_time": "2023-04-01T22:41:24.182229",
     "exception": false,
     "start_time": "2023-04-01T22:41:24.141082",
     "status": "completed"
    },
    "tags": []
   },
   "outputs": [
    {
     "name": "stdout",
     "output_type": "stream",
     "text": [
      "<class 'pandas.core.frame.DataFrame'>\n",
      "RangeIndex: 20718 entries, 0 to 20717\n",
      "Data columns (total 21 columns):\n",
      " #   Column            Non-Null Count  Dtype  \n",
      "---  ------            --------------  -----  \n",
      " 0   Unnamed: 0        20718 non-null  int64  \n",
      " 1   Artist            20718 non-null  object \n",
      " 2   Track             20718 non-null  object \n",
      " 3   Album             20718 non-null  object \n",
      " 4   Album_type        20718 non-null  object \n",
      " 5   Danceability      20716 non-null  float64\n",
      " 6   Energy            20716 non-null  float64\n",
      " 7   Key               20716 non-null  float64\n",
      " 8   Loudness          20716 non-null  float64\n",
      " 9   Speechiness       20716 non-null  float64\n",
      " 10  Acousticness      20716 non-null  float64\n",
      " 11  Instrumentalness  20716 non-null  float64\n",
      " 12  Liveness          20716 non-null  float64\n",
      " 13  Valence           20716 non-null  float64\n",
      " 14  Tempo             20716 non-null  float64\n",
      " 15  Duration_ms       20716 non-null  float64\n",
      " 16  Views             20248 non-null  float64\n",
      " 17  Likes             20177 non-null  float64\n",
      " 18  Comments          20149 non-null  float64\n",
      " 19  Licensed          20248 non-null  object \n",
      " 20  Stream            20142 non-null  float64\n",
      "dtypes: float64(15), int64(1), object(5)\n",
      "memory usage: 3.3+ MB\n"
     ]
    }
   ],
   "source": [
    "df.info()"
   ]
  },
  {
   "cell_type": "code",
   "execution_count": 7,
   "id": "2eace415",
   "metadata": {
    "execution": {
     "iopub.execute_input": "2023-04-01T22:41:24.216184Z",
     "iopub.status.busy": "2023-04-01T22:41:24.214767Z",
     "iopub.status.idle": "2023-04-01T22:41:24.238687Z",
     "shell.execute_reply": "2023-04-01T22:41:24.237012Z"
    },
    "papermill": {
     "duration": 0.043901,
     "end_time": "2023-04-01T22:41:24.241728",
     "exception": false,
     "start_time": "2023-04-01T22:41:24.197827",
     "status": "completed"
    },
    "tags": []
   },
   "outputs": [],
   "source": [
    "df = df.dropna()"
   ]
  },
  {
   "cell_type": "code",
   "execution_count": 8,
   "id": "ef097c0e",
   "metadata": {
    "execution": {
     "iopub.execute_input": "2023-04-01T22:41:24.274854Z",
     "iopub.status.busy": "2023-04-01T22:41:24.274390Z",
     "iopub.status.idle": "2023-04-01T22:41:24.285272Z",
     "shell.execute_reply": "2023-04-01T22:41:24.283683Z"
    },
    "papermill": {
     "duration": 0.030629,
     "end_time": "2023-04-01T22:41:24.287990",
     "exception": false,
     "start_time": "2023-04-01T22:41:24.257361",
     "status": "completed"
    },
    "tags": []
   },
   "outputs": [
    {
     "data": {
      "text/plain": [
       "0        693555221.0\n",
       "1         72011645.0\n",
       "2          8435055.0\n",
       "3        211754952.0\n",
       "4        618480958.0\n",
       "            ...     \n",
       "20713        71678.0\n",
       "20714       164741.0\n",
       "20715        35646.0\n",
       "20716         6533.0\n",
       "20717       158697.0\n",
       "Name: Views, Length: 19549, dtype: float64"
      ]
     },
     "execution_count": 8,
     "metadata": {},
     "output_type": "execute_result"
    }
   ],
   "source": [
    "df['Views']"
   ]
  },
  {
   "cell_type": "markdown",
   "id": "9e5bc282",
   "metadata": {
    "papermill": {
     "duration": 0.015365,
     "end_time": "2023-04-01T22:41:24.318848",
     "exception": false,
     "start_time": "2023-04-01T22:41:24.303483",
     "status": "completed"
    },
    "tags": []
   },
   "source": [
    "# EDA"
   ]
  },
  {
   "cell_type": "markdown",
   "id": "6a3a58fc",
   "metadata": {
    "papermill": {
     "duration": 0.015872,
     "end_time": "2023-04-01T22:41:24.350568",
     "exception": false,
     "start_time": "2023-04-01T22:41:24.334696",
     "status": "completed"
    },
    "tags": []
   },
   "source": [
    "## most viewed artists on Youtube"
   ]
  },
  {
   "cell_type": "code",
   "execution_count": 9,
   "id": "f05bb6c3",
   "metadata": {
    "execution": {
     "iopub.execute_input": "2023-04-01T22:41:24.383713Z",
     "iopub.status.busy": "2023-04-01T22:41:24.383285Z",
     "iopub.status.idle": "2023-04-01T22:41:24.406712Z",
     "shell.execute_reply": "2023-04-01T22:41:24.405392Z"
    },
    "papermill": {
     "duration": 0.043519,
     "end_time": "2023-04-01T22:41:24.409663",
     "exception": false,
     "start_time": "2023-04-01T22:41:24.366144",
     "status": "completed"
    },
    "tags": []
   },
   "outputs": [
    {
     "data": {
      "text/plain": [
       "Artist\n",
       "Ed Sheeran                 1.546021e+10\n",
       "CoComelon                  1.460167e+10\n",
       "Katy Perry                 1.312063e+10\n",
       "Charlie Puth               1.216759e+10\n",
       "Luis Fonsi                 1.162811e+10\n",
       "Justin Bieber              1.099106e+10\n",
       "Daddy Yankee               1.087193e+10\n",
       "Bruno Mars                 1.024092e+10\n",
       "Macklemore & Ryan Lewis    1.012206e+10\n",
       "Coldplay                   9.997278e+09\n",
       "Name: Views, dtype: float64"
      ]
     },
     "execution_count": 9,
     "metadata": {},
     "output_type": "execute_result"
    }
   ],
   "source": [
    "df.groupby('Artist').sum()['Views'].sort_values(ascending = False).head(10)"
   ]
  },
  {
   "cell_type": "code",
   "execution_count": 10,
   "id": "418dbb4c",
   "metadata": {
    "execution": {
     "iopub.execute_input": "2023-04-01T22:41:24.444683Z",
     "iopub.status.busy": "2023-04-01T22:41:24.444204Z",
     "iopub.status.idle": "2023-04-01T22:41:24.857611Z",
     "shell.execute_reply": "2023-04-01T22:41:24.856150Z"
    },
    "papermill": {
     "duration": 0.43389,
     "end_time": "2023-04-01T22:41:24.860609",
     "exception": false,
     "start_time": "2023-04-01T22:41:24.426719",
     "status": "completed"
    },
    "tags": []
   },
   "outputs": [
    {
     "data": {
      "text/plain": [
       "<AxesSubplot:xlabel='Artist'>"
      ]
     },
     "execution_count": 10,
     "metadata": {},
     "output_type": "execute_result"
    },
    {
     "data": {
      "image/png": "[encoded data removed]",
      "text/plain": [
       "<Figure size 1900x600 with 1 Axes>"
      ]
     },
     "metadata": {},
     "output_type": "display_data"
    }
   ],
   "source": [
    "artists = df.groupby('Artist').sum()['Views'].sort_values(ascending = False).head(10)\n",
    "artists = artists.sort_values(ascending = True)\n",
    "artists = pd.DataFrame(artists)\n",
    "plt.figure(figsize=(19,6))\n",
    "sns.lineplot(artists)"
   ]
  },
  {
   "cell_type": "markdown",
   "id": "00ad03ee",
   "metadata": {
    "papermill": {
     "duration": 0.01619,
     "end_time": "2023-04-01T22:41:24.893524",
     "exception": false,
     "start_time": "2023-04-01T22:41:24.877334",
     "status": "completed"
    },
    "tags": []
   },
   "source": [
    "## most streamed artists on Spotify"
   ]
  },
  {
   "cell_type": "code",
   "execution_count": 11,
   "id": "c8520b70",
   "metadata": {
    "execution": {
     "iopub.execute_input": "2023-04-01T22:41:24.929051Z",
     "iopub.status.busy": "2023-04-01T22:41:24.928632Z",
     "iopub.status.idle": "2023-04-01T22:41:24.953145Z",
     "shell.execute_reply": "2023-04-01T22:41:24.952269Z"
    },
    "papermill": {
     "duration": 0.045143,
     "end_time": "2023-04-01T22:41:24.955413",
     "exception": false,
     "start_time": "2023-04-01T22:41:24.910270",
     "status": "completed"
    },
    "tags": []
   },
   "outputs": [
    {
     "data": {
      "text/plain": [
       "Artist\n",
       "Post Malone        1.525126e+10\n",
       "Ed Sheeran         1.439488e+10\n",
       "Dua Lipa           1.340808e+10\n",
       "The Weeknd         1.246428e+10\n",
       "Justin Bieber      1.209777e+10\n",
       "XXXTENTACION       1.201191e+10\n",
       "Imagine Dragons    1.185831e+10\n",
       "Coldplay           1.177848e+10\n",
       "Khalid             1.138684e+10\n",
       "Bruno Mars         1.089786e+10\n",
       "Name: Stream, dtype: float64"
      ]
     },
     "execution_count": 11,
     "metadata": {},
     "output_type": "execute_result"
    }
   ],
   "source": [
    "df.groupby('Artist').sum()['Stream'].sort_values(ascending = False).head(10)"
   ]
  },
  {
   "cell_type": "code",
   "execution_count": 12,
   "id": "3c4f90fc",
   "metadata": {
    "execution": {
     "iopub.execute_input": "2023-04-01T22:41:24.991864Z",
     "iopub.status.busy": "2023-04-01T22:41:24.991158Z",
     "iopub.status.idle": "2023-04-01T22:41:25.494704Z",
     "shell.execute_reply": "2023-04-01T22:41:25.493142Z"
    },
    "papermill": {
     "duration": 0.524841,
     "end_time": "2023-04-01T22:41:25.497618",
     "exception": false,
     "start_time": "2023-04-01T22:41:24.972777",
     "status": "completed"
    },
    "tags": []
   },
   "outputs": [
    {
     "data": {
      "text/plain": [
       "<AxesSubplot:xlabel='Artist'>"
      ]
     },
     "execution_count": 12,
     "metadata": {},
     "output_type": "execute_result"
    },
    {
     "data": {
      "image/png": "[encoded data removed]",
      "text/plain": [
       "<Figure size 1900x600 with 1 Axes>"
      ]
     },
     "metadata": {},
     "output_type": "display_data"
    }
   ],
   "source": [
    "artists2 = df.groupby('Artist').sum()['Stream'].sort_values(ascending = False).head(10)\n",
    "artists2 = artists2.sort_values(ascending = True)\n",
    "artists2 = pd.DataFrame(artists2)\n",
    "plt.figure(figsize=(19,6))\n",
    "sns.lineplot(artists2)"
   ]
  },
  {
   "cell_type": "markdown",
   "id": "bc75c014",
   "metadata": {
    "papermill": {
     "duration": 0.017329,
     "end_time": "2023-04-01T22:41:25.532866",
     "exception": false,
     "start_time": "2023-04-01T22:41:25.515537",
     "status": "completed"
    },
    "tags": []
   },
   "source": [
    "# most viewed songs on youtube"
   ]
  },
  {
   "cell_type": "code",
   "execution_count": 13,
   "id": "91083f19",
   "metadata": {
    "execution": {
     "iopub.execute_input": "2023-04-01T22:41:25.571238Z",
     "iopub.status.busy": "2023-04-01T22:41:25.570040Z",
     "iopub.status.idle": "2023-04-01T22:41:25.595838Z",
     "shell.execute_reply": "2023-04-01T22:41:25.594550Z"
    },
    "papermill": {
     "duration": 0.048403,
     "end_time": "2023-04-01T22:41:25.599026",
     "exception": false,
     "start_time": "2023-04-01T22:41:25.550623",
     "status": "completed"
    },
    "tags": []
   },
   "outputs": [
    {
     "data": {
      "text/html": [
       "<div>\n",
       "<style scoped>\n",
       "    .dataframe tbody tr th:only-of-type {\n",
       "        vertical-align: middle;\n",
       "    }\n",
       "\n",
       "    .dataframe tbody tr th {\n",
       "        vertical-align: top;\n",
       "    }\n",
       "\n",
       "    .dataframe thead th {\n",
       "        text-align: right;\n",
       "    }\n",
       "</style>\n",
       "<table border=\"1\" class=\"dataframe\">\n",
       "  <thead>\n",
       "    <tr style=\"text-align: right;\">\n",
       "      <th></th>\n",
       "      <th>Track</th>\n",
       "      <th>Artist</th>\n",
       "      <th>Views</th>\n",
       "    </tr>\n",
       "  </thead>\n",
       "  <tbody>\n",
       "    <tr>\n",
       "      <th>1147</th>\n",
       "      <td>Despacito</td>\n",
       "      <td>Luis Fonsi</td>\n",
       "      <td>8.079649e+09</td>\n",
       "    </tr>\n",
       "    <tr>\n",
       "      <th>365</th>\n",
       "      <td>Despacito</td>\n",
       "      <td>Daddy Yankee</td>\n",
       "      <td>8.079647e+09</td>\n",
       "    </tr>\n",
       "    <tr>\n",
       "      <th>12452</th>\n",
       "      <td>Shape of You</td>\n",
       "      <td>Ed Sheeran</td>\n",
       "      <td>5.908398e+09</td>\n",
       "    </tr>\n",
       "    <tr>\n",
       "      <th>14580</th>\n",
       "      <td>See You Again (feat. Charlie Puth)</td>\n",
       "      <td>Charlie Puth</td>\n",
       "      <td>5.773798e+09</td>\n",
       "    </tr>\n",
       "    <tr>\n",
       "      <th>12469</th>\n",
       "      <td>See You Again (feat. Charlie Puth)</td>\n",
       "      <td>Wiz Khalifa</td>\n",
       "      <td>5.773797e+09</td>\n",
       "    </tr>\n",
       "    <tr>\n",
       "      <th>20303</th>\n",
       "      <td>Wheels on the Bus</td>\n",
       "      <td>CoComelon</td>\n",
       "      <td>4.898831e+09</td>\n",
       "    </tr>\n",
       "    <tr>\n",
       "      <th>10686</th>\n",
       "      <td>Uptown Funk (feat. Bruno Mars)</td>\n",
       "      <td>Mark Ronson</td>\n",
       "      <td>4.821016e+09</td>\n",
       "    </tr>\n",
       "    <tr>\n",
       "      <th>8937</th>\n",
       "      <td>Gangnam Style (강남스타일)</td>\n",
       "      <td>PSY</td>\n",
       "      <td>4.679767e+09</td>\n",
       "    </tr>\n",
       "    <tr>\n",
       "      <th>9569</th>\n",
       "      <td>Sugar</td>\n",
       "      <td>Maroon 5</td>\n",
       "      <td>3.817733e+09</td>\n",
       "    </tr>\n",
       "    <tr>\n",
       "      <th>13032</th>\n",
       "      <td>Roar</td>\n",
       "      <td>Katy Perry</td>\n",
       "      <td>3.725749e+09</td>\n",
       "    </tr>\n",
       "  </tbody>\n",
       "</table>\n",
       "</div>"
      ],
      "text/plain": [
       "                                    Track        Artist         Views\n",
       "1147                            Despacito    Luis Fonsi  8.079649e+09\n",
       "365                             Despacito  Daddy Yankee  8.079647e+09\n",
       "12452                        Shape of You    Ed Sheeran  5.908398e+09\n",
       "14580  See You Again (feat. Charlie Puth)  Charlie Puth  5.773798e+09\n",
       "12469  See You Again (feat. Charlie Puth)   Wiz Khalifa  5.773797e+09\n",
       "20303                   Wheels on the Bus     CoComelon  4.898831e+09\n",
       "10686      Uptown Funk (feat. Bruno Mars)   Mark Ronson  4.821016e+09\n",
       "8937                Gangnam Style (강남스타일)           PSY  4.679767e+09\n",
       "9569                                Sugar      Maroon 5  3.817733e+09\n",
       "13032                                Roar    Katy Perry  3.725749e+09"
      ]
     },
     "execution_count": 13,
     "metadata": {},
     "output_type": "execute_result"
    }
   ],
   "source": [
    "df.sort_values(by = 'Views', ascending = False)[['Track', 'Artist', 'Views']].head(10)"
   ]
  },
  {
   "cell_type": "markdown",
   "id": "4935247c",
   "metadata": {
    "papermill": {
     "duration": 0.0187,
     "end_time": "2023-04-01T22:41:25.636109",
     "exception": false,
     "start_time": "2023-04-01T22:41:25.617409",
     "status": "completed"
    },
    "tags": []
   },
   "source": [
    "# top 5 songs on YT"
   ]
  },
  {
   "cell_type": "code",
   "execution_count": 14,
   "id": "4ff192e2",
   "metadata": {
    "execution": {
     "iopub.execute_input": "2023-04-01T22:41:25.677134Z",
     "iopub.status.busy": "2023-04-01T22:41:25.675746Z",
     "iopub.status.idle": "2023-04-01T22:41:26.022702Z",
     "shell.execute_reply": "2023-04-01T22:41:26.021366Z"
    },
    "papermill": {
     "duration": 0.371023,
     "end_time": "2023-04-01T22:41:26.025724",
     "exception": false,
     "start_time": "2023-04-01T22:41:25.654701",
     "status": "completed"
    },
    "tags": []
   },
   "outputs": [
    {
     "data": {
      "image/png": "[encoded data removed]",
      "text/plain": [
       "<Figure size 1900x600 with 1 Axes>"
      ]
     },
     "metadata": {},
     "output_type": "display_data"
    }
   ],
   "source": [
    "holdi = df.sort_values(by = 'Views', ascending = False)[['Track', 'Artist', 'Views']].head(7)\n",
    "plt.figure(figsize=(19,6))\n",
    "sns.barplot(data = holdi, x= 'Track', y='Views', palette = 'Reds_r')\n",
    "plt.title(\"Top 5 Songs on Youtube\")\n",
    "plt.ylabel(\"Billions of Views\", color = 'lightgrey')\n",
    "plt.xlabel(\"Song\", color = 'lightgrey')\n",
    "plt.show()"
   ]
  },
  {
   "cell_type": "markdown",
   "id": "855a0a0e",
   "metadata": {
    "papermill": {
     "duration": 0.018586,
     "end_time": "2023-04-01T22:41:26.063684",
     "exception": false,
     "start_time": "2023-04-01T22:41:26.045098",
     "status": "completed"
    },
    "tags": []
   },
   "source": [
    "# top 5 songs on Spotify"
   ]
  },
  {
   "cell_type": "code",
   "execution_count": 15,
   "id": "93813378",
   "metadata": {
    "execution": {
     "iopub.execute_input": "2023-04-01T22:41:26.103265Z",
     "iopub.status.busy": "2023-04-01T22:41:26.102818Z",
     "iopub.status.idle": "2023-04-01T22:41:26.424019Z",
     "shell.execute_reply": "2023-04-01T22:41:26.422320Z"
    },
    "papermill": {
     "duration": 0.344961,
     "end_time": "2023-04-01T22:41:26.427301",
     "exception": false,
     "start_time": "2023-04-01T22:41:26.082340",
     "status": "completed"
    },
    "tags": []
   },
   "outputs": [
    {
     "data": {
      "image/png": "[encoded data removed]",
      "text/plain": [
       "<Figure size 1900x600 with 1 Axes>"
      ]
     },
     "metadata": {},
     "output_type": "display_data"
    }
   ],
   "source": [
    "holdi = df.sort_values(by = 'Stream', ascending = False)[['Track', 'Artist', 'Stream']].head(6)\n",
    "plt.figure(figsize=(19,6))\n",
    "sns.barplot(data = holdi, x= 'Track', y='Stream', palette = 'Greens_r')\n",
    "plt.title(\"Top 5 Songs on Spotify\")\n",
    "plt.ylabel(\"Billions of Streams\", color = 'lightgrey')\n",
    "plt.xlabel(\"Song\", color = 'lightgrey')\n",
    "plt.show()"
   ]
  },
  {
   "cell_type": "markdown",
   "id": "cc0631f0",
   "metadata": {
    "papermill": {
     "duration": 0.019181,
     "end_time": "2023-04-01T22:41:26.465763",
     "exception": false,
     "start_time": "2023-04-01T22:41:26.446582",
     "status": "completed"
    },
    "tags": []
   },
   "source": [
    "# this is the view distribution of the whole dataset"
   ]
  },
  {
   "cell_type": "code",
   "execution_count": 16,
   "id": "22a0726d",
   "metadata": {
    "execution": {
     "iopub.execute_input": "2023-04-01T22:41:26.507742Z",
     "iopub.status.busy": "2023-04-01T22:41:26.506787Z",
     "iopub.status.idle": "2023-04-01T22:41:26.951342Z",
     "shell.execute_reply": "2023-04-01T22:41:26.949974Z"
    },
    "papermill": {
     "duration": 0.469354,
     "end_time": "2023-04-01T22:41:26.954470",
     "exception": false,
     "start_time": "2023-04-01T22:41:26.485116",
     "status": "completed"
    },
    "tags": []
   },
   "outputs": [
    {
     "data": {
      "text/plain": [
       "Text(0.0, 1.0, 'View Distribution of Top Songs')"
      ]
     },
     "execution_count": 16,
     "metadata": {},
     "output_type": "execute_result"
    },
    {
     "data": {
      "image/png": "[encoded data removed]",
      "text/plain": [
       "<Figure size 1900x600 with 1 Axes>"
      ]
     },
     "metadata": {},
     "output_type": "display_data"
    }
   ],
   "source": [
    "df5 = df['Views'].sort_values(ascending = True).head(18000)\n",
    "plt.figure(figsize=(19,6))\n",
    "sns.histplot(x = df['Views'], bins = 50, color = 'lightcyan')\n",
    "plt.title(\"View Distribution of Top Songs\", loc = 'left', color = 'grey')"
   ]
  },
  {
   "cell_type": "markdown",
   "id": "07a8bb11",
   "metadata": {
    "papermill": {
     "duration": 0.019477,
     "end_time": "2023-04-01T22:41:26.993812",
     "exception": false,
     "start_time": "2023-04-01T22:41:26.974335",
     "status": "completed"
    },
    "tags": []
   },
   "source": [
    "# versus the top 1000"
   ]
  },
  {
   "cell_type": "code",
   "execution_count": 17,
   "id": "68b89e76",
   "metadata": {
    "execution": {
     "iopub.execute_input": "2023-04-01T22:41:27.036335Z",
     "iopub.status.busy": "2023-04-01T22:41:27.035430Z",
     "iopub.status.idle": "2023-04-01T22:41:27.396212Z",
     "shell.execute_reply": "2023-04-01T22:41:27.394855Z"
    },
    "papermill": {
     "duration": 0.385413,
     "end_time": "2023-04-01T22:41:27.399045",
     "exception": false,
     "start_time": "2023-04-01T22:41:27.013632",
     "status": "completed"
    },
    "tags": []
   },
   "outputs": [
    {
     "data": {
      "text/plain": [
       "Text(0.0, 1.0, 'View Distribution of Top 1000 Songs')"
      ]
     },
     "execution_count": 17,
     "metadata": {},
     "output_type": "execute_result"
    },
    {
     "data": {
      "image/png": "[encoded data removed]",
      "text/plain": [
       "<Figure size 1900x600 with 1 Axes>"
      ]
     },
     "metadata": {},
     "output_type": "display_data"
    }
   ],
   "source": [
    "df6 = df['Views'].sort_values(ascending = False).head(1000)\n",
    "plt.figure(figsize=(19,6))\n",
    "sns.histplot(x = df6, bins = 20, color = 'lightcyan')\n",
    "plt.title(\"View Distribution of Top 1000 Songs\", loc = 'left', color = 'grey')"
   ]
  },
  {
   "cell_type": "markdown",
   "id": "0c86d636",
   "metadata": {
    "papermill": {
     "duration": 0.022025,
     "end_time": "2023-04-01T22:41:27.441857",
     "exception": false,
     "start_time": "2023-04-01T22:41:27.419832",
     "status": "completed"
    },
    "tags": []
   },
   "source": [
    "# only 1.54% of these videos have reached a billion views. Thus, 98% of the top songs lie between 0-1b views."
   ]
  },
  {
   "cell_type": "code",
   "execution_count": 18,
   "id": "5a03c2ad",
   "metadata": {
    "execution": {
     "iopub.execute_input": "2023-04-01T22:41:27.486065Z",
     "iopub.status.busy": "2023-04-01T22:41:27.485535Z",
     "iopub.status.idle": "2023-04-01T22:41:27.497775Z",
     "shell.execute_reply": "2023-04-01T22:41:27.496364Z"
    },
    "papermill": {
     "duration": 0.037216,
     "end_time": "2023-04-01T22:41:27.500467",
     "exception": false,
     "start_time": "2023-04-01T22:41:27.463251",
     "status": "completed"
    },
    "tags": []
   },
   "outputs": [
    {
     "data": {
      "text/plain": [
       "1.5192592971507546"
      ]
     },
     "execution_count": 18,
     "metadata": {},
     "output_type": "execute_result"
    }
   ],
   "source": [
    "# 1,000,000\n",
    "(1 - len(df[df['Views'] < 1000000000]) / len(df)) * 100"
   ]
  },
  {
   "cell_type": "code",
   "execution_count": 19,
   "id": "7cd40474",
   "metadata": {
    "execution": {
     "iopub.execute_input": "2023-04-01T22:41:27.545097Z",
     "iopub.status.busy": "2023-04-01T22:41:27.543863Z",
     "iopub.status.idle": "2023-04-01T22:41:27.568241Z",
     "shell.execute_reply": "2023-04-01T22:41:27.566926Z"
    },
    "papermill": {
     "duration": 0.049512,
     "end_time": "2023-04-01T22:41:27.571023",
     "exception": false,
     "start_time": "2023-04-01T22:41:27.521511",
     "status": "completed"
    },
    "tags": []
   },
   "outputs": [
    {
     "data": {
      "text/html": [
       "<div>\n",
       "<style scoped>\n",
       "    .dataframe tbody tr th:only-of-type {\n",
       "        vertical-align: middle;\n",
       "    }\n",
       "\n",
       "    .dataframe tbody tr th {\n",
       "        vertical-align: top;\n",
       "    }\n",
       "\n",
       "    .dataframe thead th {\n",
       "        text-align: right;\n",
       "    }\n",
       "</style>\n",
       "<table border=\"1\" class=\"dataframe\">\n",
       "  <thead>\n",
       "    <tr style=\"text-align: right;\">\n",
       "      <th></th>\n",
       "      <th>Track</th>\n",
       "      <th>Artist</th>\n",
       "      <th>Stream</th>\n",
       "    </tr>\n",
       "  </thead>\n",
       "  <tbody>\n",
       "    <tr>\n",
       "      <th>15250</th>\n",
       "      <td>Blinding Lights</td>\n",
       "      <td>The Weeknd</td>\n",
       "      <td>3.386520e+09</td>\n",
       "    </tr>\n",
       "    <tr>\n",
       "      <th>12452</th>\n",
       "      <td>Shape of You</td>\n",
       "      <td>Ed Sheeran</td>\n",
       "      <td>3.362005e+09</td>\n",
       "    </tr>\n",
       "    <tr>\n",
       "      <th>19186</th>\n",
       "      <td>Someone You Loved</td>\n",
       "      <td>Lewis Capaldi</td>\n",
       "      <td>2.634013e+09</td>\n",
       "    </tr>\n",
       "    <tr>\n",
       "      <th>17937</th>\n",
       "      <td>rockstar (feat. 21 Savage)</td>\n",
       "      <td>Post Malone</td>\n",
       "      <td>2.594927e+09</td>\n",
       "    </tr>\n",
       "    <tr>\n",
       "      <th>17938</th>\n",
       "      <td>Sunflower - Spider-Man: Into the Spider-Verse</td>\n",
       "      <td>Post Malone</td>\n",
       "      <td>2.538330e+09</td>\n",
       "    </tr>\n",
       "    <tr>\n",
       "      <th>17445</th>\n",
       "      <td>Sunflower - Spider-Man: Into the Spider-Verse</td>\n",
       "      <td>Swae Lee</td>\n",
       "      <td>2.538330e+09</td>\n",
       "    </tr>\n",
       "    <tr>\n",
       "      <th>13503</th>\n",
       "      <td>One Dance</td>\n",
       "      <td>Drake</td>\n",
       "      <td>2.522432e+09</td>\n",
       "    </tr>\n",
       "    <tr>\n",
       "      <th>16028</th>\n",
       "      <td>Closer</td>\n",
       "      <td>Halsey</td>\n",
       "      <td>2.456205e+09</td>\n",
       "    </tr>\n",
       "    <tr>\n",
       "      <th>16099</th>\n",
       "      <td>Closer</td>\n",
       "      <td>The Chainsmokers</td>\n",
       "      <td>2.456205e+09</td>\n",
       "    </tr>\n",
       "    <tr>\n",
       "      <th>14030</th>\n",
       "      <td>Believer</td>\n",
       "      <td>Imagine Dragons</td>\n",
       "      <td>2.369272e+09</td>\n",
       "    </tr>\n",
       "  </tbody>\n",
       "</table>\n",
       "</div>"
      ],
      "text/plain": [
       "                                               Track            Artist  \\\n",
       "15250                                Blinding Lights        The Weeknd   \n",
       "12452                                   Shape of You        Ed Sheeran   \n",
       "19186                              Someone You Loved     Lewis Capaldi   \n",
       "17937                     rockstar (feat. 21 Savage)       Post Malone   \n",
       "17938  Sunflower - Spider-Man: Into the Spider-Verse       Post Malone   \n",
       "17445  Sunflower - Spider-Man: Into the Spider-Verse          Swae Lee   \n",
       "13503                                      One Dance             Drake   \n",
       "16028                                         Closer            Halsey   \n",
       "16099                                         Closer  The Chainsmokers   \n",
       "14030                                       Believer   Imagine Dragons   \n",
       "\n",
       "             Stream  \n",
       "15250  3.386520e+09  \n",
       "12452  3.362005e+09  \n",
       "19186  2.634013e+09  \n",
       "17937  2.594927e+09  \n",
       "17938  2.538330e+09  \n",
       "17445  2.538330e+09  \n",
       "13503  2.522432e+09  \n",
       "16028  2.456205e+09  \n",
       "16099  2.456205e+09  \n",
       "14030  2.369272e+09  "
      ]
     },
     "execution_count": 19,
     "metadata": {},
     "output_type": "execute_result"
    }
   ],
   "source": [
    "df.sort_values(by = 'Stream', ascending = False)[['Track', 'Artist', 'Stream']].head(10)"
   ]
  },
  {
   "cell_type": "markdown",
   "id": "2c8c4397",
   "metadata": {
    "papermill": {
     "duration": 0.020747,
     "end_time": "2023-04-01T22:41:27.612907",
     "exception": false,
     "start_time": "2023-04-01T22:41:27.592160",
     "status": "completed"
    },
    "tags": []
   },
   "source": [
    "# top albums in this dataset"
   ]
  },
  {
   "cell_type": "code",
   "execution_count": 20,
   "id": "a348fecb",
   "metadata": {
    "execution": {
     "iopub.execute_input": "2023-04-01T22:41:27.657962Z",
     "iopub.status.busy": "2023-04-01T22:41:27.656993Z",
     "iopub.status.idle": "2023-04-01T22:41:27.698549Z",
     "shell.execute_reply": "2023-04-01T22:41:27.697199Z"
    },
    "papermill": {
     "duration": 0.067096,
     "end_time": "2023-04-01T22:41:27.701313",
     "exception": false,
     "start_time": "2023-04-01T22:41:27.634217",
     "status": "completed"
    },
    "tags": []
   },
   "outputs": [
    {
     "data": {
      "text/plain": [
       "Album\n",
       "VIDA                                  2.114088e+10\n",
       "See You Again (feat. Charlie Puth)    1.154760e+10\n",
       "The Heist                             1.124059e+10\n",
       "CoComelon Kids Hits, Vol. 1           1.051820e+10\n",
       "÷ (Deluxe)                            9.666639e+09\n",
       "PRISM                                 7.820546e+09\n",
       "What Is Love? (Deluxe Edition)        7.378171e+09\n",
       "Peace Is The Mission (Extended)       6.649670e+09\n",
       "MALA SANTA                            6.421337e+09\n",
       "Purpose (Deluxe)                      5.846258e+09\n",
       "Name: Views, dtype: float64"
      ]
     },
     "execution_count": 20,
     "metadata": {},
     "output_type": "execute_result"
    }
   ],
   "source": [
    "df.groupby('Album').sum()['Views'].sort_values(ascending = False).head(10)"
   ]
  },
  {
   "cell_type": "markdown",
   "id": "9bad37ad",
   "metadata": {
    "papermill": {
     "duration": 0.020733,
     "end_time": "2023-04-01T22:41:27.742979",
     "exception": false,
     "start_time": "2023-04-01T22:41:27.722246",
     "status": "completed"
    },
    "tags": []
   },
   "source": [
    "# Videos with the highest like ratios"
   ]
  },
  {
   "cell_type": "code",
   "execution_count": 21,
   "id": "9ca16dd4",
   "metadata": {
    "execution": {
     "iopub.execute_input": "2023-04-01T22:41:27.787469Z",
     "iopub.status.busy": "2023-04-01T22:41:27.787068Z",
     "iopub.status.idle": "2023-04-01T22:41:27.831775Z",
     "shell.execute_reply": "2023-04-01T22:41:27.830451Z"
    },
    "papermill": {
     "duration": 0.070486,
     "end_time": "2023-04-01T22:41:27.834561",
     "exception": false,
     "start_time": "2023-04-01T22:41:27.764075",
     "status": "completed"
    },
    "tags": []
   },
   "outputs": [
    {
     "data": {
      "text/html": [
       "<div>\n",
       "<style scoped>\n",
       "    .dataframe tbody tr th:only-of-type {\n",
       "        vertical-align: middle;\n",
       "    }\n",
       "\n",
       "    .dataframe tbody tr th {\n",
       "        vertical-align: top;\n",
       "    }\n",
       "\n",
       "    .dataframe thead th {\n",
       "        text-align: right;\n",
       "    }\n",
       "</style>\n",
       "<table border=\"1\" class=\"dataframe\">\n",
       "  <thead>\n",
       "    <tr style=\"text-align: right;\">\n",
       "      <th></th>\n",
       "      <th>Artist</th>\n",
       "      <th>Track</th>\n",
       "      <th>Views</th>\n",
       "      <th>like_percent</th>\n",
       "    </tr>\n",
       "  </thead>\n",
       "  <tbody>\n",
       "    <tr>\n",
       "      <th>19970</th>\n",
       "      <td>j-hope</td>\n",
       "      <td>Blue Side (Outro)</td>\n",
       "      <td>16504576.0</td>\n",
       "      <td>0.143</td>\n",
       "    </tr>\n",
       "    <tr>\n",
       "      <th>8098</th>\n",
       "      <td>RM</td>\n",
       "      <td>Still Life (with Anderson .Paak)</td>\n",
       "      <td>14483104.0</td>\n",
       "      <td>0.112</td>\n",
       "    </tr>\n",
       "    <tr>\n",
       "      <th>19963</th>\n",
       "      <td>j-hope</td>\n",
       "      <td>Arson</td>\n",
       "      <td>42659733.0</td>\n",
       "      <td>0.095</td>\n",
       "    </tr>\n",
       "    <tr>\n",
       "      <th>19965</th>\n",
       "      <td>j-hope</td>\n",
       "      <td>MORE</td>\n",
       "      <td>63707847.0</td>\n",
       "      <td>0.094</td>\n",
       "    </tr>\n",
       "    <tr>\n",
       "      <th>18889</th>\n",
       "      <td>NCT DREAM</td>\n",
       "      <td>Life Is Still Going On</td>\n",
       "      <td>10972776.0</td>\n",
       "      <td>0.084</td>\n",
       "    </tr>\n",
       "    <tr>\n",
       "      <th>8097</th>\n",
       "      <td>RM</td>\n",
       "      <td>Wild Flower (with youjeen)</td>\n",
       "      <td>46284905.0</td>\n",
       "      <td>0.081</td>\n",
       "    </tr>\n",
       "    <tr>\n",
       "      <th>9695</th>\n",
       "      <td>Megan Thee Stallion</td>\n",
       "      <td>Butter - Megan Thee Stallion Remix</td>\n",
       "      <td>69255155.0</td>\n",
       "      <td>0.079</td>\n",
       "    </tr>\n",
       "    <tr>\n",
       "      <th>12490</th>\n",
       "      <td>Taylor Swift</td>\n",
       "      <td>Lavender Haze</td>\n",
       "      <td>14004124.0</td>\n",
       "      <td>0.077</td>\n",
       "    </tr>\n",
       "    <tr>\n",
       "      <th>12224</th>\n",
       "      <td>Wale</td>\n",
       "      <td>Change</td>\n",
       "      <td>23052210.0</td>\n",
       "      <td>0.074</td>\n",
       "    </tr>\n",
       "    <tr>\n",
       "      <th>18467</th>\n",
       "      <td>Louis Tomlinson</td>\n",
       "      <td>Bigger Than Me</td>\n",
       "      <td>5894217.0</td>\n",
       "      <td>0.072</td>\n",
       "    </tr>\n",
       "  </tbody>\n",
       "</table>\n",
       "</div>"
      ],
      "text/plain": [
       "                    Artist                               Track       Views  \\\n",
       "19970               j-hope                   Blue Side (Outro)  16504576.0   \n",
       "8098                    RM    Still Life (with Anderson .Paak)  14483104.0   \n",
       "19963               j-hope                               Arson  42659733.0   \n",
       "19965               j-hope                                MORE  63707847.0   \n",
       "18889            NCT DREAM              Life Is Still Going On  10972776.0   \n",
       "8097                    RM          Wild Flower (with youjeen)  46284905.0   \n",
       "9695   Megan Thee Stallion  Butter - Megan Thee Stallion Remix  69255155.0   \n",
       "12490         Taylor Swift                       Lavender Haze  14004124.0   \n",
       "12224                 Wale                              Change  23052210.0   \n",
       "18467      Louis Tomlinson                      Bigger Than Me   5894217.0   \n",
       "\n",
       "       like_percent  \n",
       "19970         0.143  \n",
       "8098          0.112  \n",
       "19963         0.095  \n",
       "19965         0.094  \n",
       "18889         0.084  \n",
       "8097          0.081  \n",
       "9695          0.079  \n",
       "12490         0.077  \n",
       "12224         0.074  \n",
       "18467         0.072  "
      ]
     },
     "execution_count": 21,
     "metadata": {},
     "output_type": "execute_result"
    }
   ],
   "source": [
    "df['like_percent'] = df['Likes']/ df['Views']\n",
    "df['like_percent'] = df['like_percent'].apply(lambda x: round(x, 3))\n",
    "df2 = df[df['Views'] > 5000000]\n",
    "df2.sort_values(by = 'like_percent', ascending = False).head(10)[['Artist', 'Track', 'Views', 'like_percent']]"
   ]
  },
  {
   "cell_type": "markdown",
   "id": "e47c1101",
   "metadata": {
    "papermill": {
     "duration": 0.021281,
     "end_time": "2023-04-01T22:41:27.877326",
     "exception": false,
     "start_time": "2023-04-01T22:41:27.856045",
     "status": "completed"
    },
    "tags": []
   },
   "source": [
    "# video duration distribution"
   ]
  },
  {
   "cell_type": "code",
   "execution_count": 22,
   "id": "1a23a43e",
   "metadata": {
    "execution": {
     "iopub.execute_input": "2023-04-01T22:41:27.923228Z",
     "iopub.status.busy": "2023-04-01T22:41:27.922508Z",
     "iopub.status.idle": "2023-04-01T22:41:28.363878Z",
     "shell.execute_reply": "2023-04-01T22:41:28.362404Z"
    },
    "papermill": {
     "duration": 0.467244,
     "end_time": "2023-04-01T22:41:28.366948",
     "exception": false,
     "start_time": "2023-04-01T22:41:27.899704",
     "status": "completed"
    },
    "tags": []
   },
   "outputs": [
    {
     "data": {
      "text/plain": [
       "<AxesSubplot:title={'left':'Song Length Distribution (seconds)'}, xlabel='seconds', ylabel='[]'>"
      ]
     },
     "execution_count": 22,
     "metadata": {},
     "output_type": "execute_result"
    },
    {
     "data": {
      "image/png": "[encoded data removed]",
      "text/plain": [
       "<Figure size 1900x600 with 1 Axes>"
      ]
     },
     "metadata": {},
     "output_type": "display_data"
    }
   ],
   "source": [
    "df['seconds'] = df['Duration_ms'].apply(lambda x: x/1000)\n",
    "df3 = df['seconds'].sort_values(ascending = True).head(19000)\n",
    "plt.figure(figsize=(19,6))\n",
    "plt.title(\"Song Length Distribution (seconds)\", loc = 'left', color = 'grey')\n",
    "plt.ylabel([])\n",
    "sns.histplot(df3, bins = 50, color = 'lightgrey')"
   ]
  },
  {
   "cell_type": "markdown",
   "id": "637dbdf7",
   "metadata": {
    "papermill": {
     "duration": 0.02283,
     "end_time": "2023-04-01T22:41:28.413096",
     "exception": false,
     "start_time": "2023-04-01T22:41:28.390266",
     "status": "completed"
    },
    "tags": []
   },
   "source": [
    "# Classification of Artist Based on Pitch, Valence, Rhythm, ETC"
   ]
  },
  {
   "cell_type": "markdown",
   "id": "e392e40d",
   "metadata": {
    "papermill": {
     "duration": 0.021841,
     "end_time": "2023-04-01T22:41:28.457345",
     "exception": false,
     "start_time": "2023-04-01T22:41:28.435504",
     "status": "completed"
    },
    "tags": []
   },
   "source": [
    "### goal: using the numerical data to classify the artist"
   ]
  },
  {
   "cell_type": "code",
   "execution_count": 23,
   "id": "9092d5e9",
   "metadata": {
    "execution": {
     "iopub.execute_input": "2023-04-01T22:41:28.503640Z",
     "iopub.status.busy": "2023-04-01T22:41:28.503199Z",
     "iopub.status.idle": "2023-04-01T22:41:28.513610Z",
     "shell.execute_reply": "2023-04-01T22:41:28.512374Z"
    },
    "papermill": {
     "duration": 0.037043,
     "end_time": "2023-04-01T22:41:28.516489",
     "exception": false,
     "start_time": "2023-04-01T22:41:28.479446",
     "status": "completed"
    },
    "tags": []
   },
   "outputs": [],
   "source": [
    "example = df.head(29)\n",
    "y_r = example['Artist']\n",
    "y = pd.factorize(y_r)[0]\n",
    "X = example.iloc[:, 8:17]\n",
    "boolx  =  pd.DataFrame(X)\n",
    "boolx['Artist_num'] = y\n",
    "boolx['Artist'] = example['Artist']\n",
    "X = boolx"
   ]
  },
  {
   "cell_type": "markdown",
   "id": "20c6d1e4",
   "metadata": {
    "papermill": {
     "duration": 0.021573,
     "end_time": "2023-04-01T22:41:28.560554",
     "exception": false,
     "start_time": "2023-04-01T22:41:28.538981",
     "status": "completed"
    },
    "tags": []
   },
   "source": [
    "### as an example, we will use these three artists: "
   ]
  },
  {
   "cell_type": "code",
   "execution_count": 24,
   "id": "5a898179",
   "metadata": {
    "execution": {
     "iopub.execute_input": "2023-04-01T22:41:28.607067Z",
     "iopub.status.busy": "2023-04-01T22:41:28.606114Z",
     "iopub.status.idle": "2023-04-01T22:41:28.613316Z",
     "shell.execute_reply": "2023-04-01T22:41:28.612391Z"
    },
    "papermill": {
     "duration": 0.033009,
     "end_time": "2023-04-01T22:41:28.615626",
     "exception": false,
     "start_time": "2023-04-01T22:41:28.582617",
     "status": "completed"
    },
    "tags": []
   },
   "outputs": [
    {
     "data": {
      "text/plain": [
       "array(['Gorillaz', 'Red Hot Chili Peppers', '50 Cent'], dtype=object)"
      ]
     },
     "execution_count": 24,
     "metadata": {},
     "output_type": "execute_result"
    }
   ],
   "source": [
    "y_r.unique()"
   ]
  },
  {
   "cell_type": "markdown",
   "id": "51695cbe",
   "metadata": {
    "papermill": {
     "duration": 0.021669,
     "end_time": "2023-04-01T22:41:28.659341",
     "exception": false,
     "start_time": "2023-04-01T22:41:28.637672",
     "status": "completed"
    },
    "tags": []
   },
   "source": [
    "### here are the features for our model averaged out from the 10 songs we will be using to train"
   ]
  },
  {
   "cell_type": "code",
   "execution_count": 25,
   "id": "f86c8435",
   "metadata": {
    "execution": {
     "iopub.execute_input": "2023-04-01T22:41:28.707490Z",
     "iopub.status.busy": "2023-04-01T22:41:28.707001Z",
     "iopub.status.idle": "2023-04-01T22:41:28.726280Z",
     "shell.execute_reply": "2023-04-01T22:41:28.724990Z"
    },
    "papermill": {
     "duration": 0.046138,
     "end_time": "2023-04-01T22:41:28.728820",
     "exception": false,
     "start_time": "2023-04-01T22:41:28.682682",
     "status": "completed"
    },
    "tags": []
   },
   "outputs": [
    {
     "data": {
      "text/html": [
       "<div>\n",
       "<style scoped>\n",
       "    .dataframe tbody tr th:only-of-type {\n",
       "        vertical-align: middle;\n",
       "    }\n",
       "\n",
       "    .dataframe tbody tr th {\n",
       "        vertical-align: top;\n",
       "    }\n",
       "\n",
       "    .dataframe thead th {\n",
       "        text-align: right;\n",
       "    }\n",
       "</style>\n",
       "<table border=\"1\" class=\"dataframe\">\n",
       "  <thead>\n",
       "    <tr style=\"text-align: right;\">\n",
       "      <th></th>\n",
       "      <th>Loudness</th>\n",
       "      <th>Speechiness</th>\n",
       "      <th>Acousticness</th>\n",
       "      <th>Instrumentalness</th>\n",
       "      <th>Liveness</th>\n",
       "      <th>Valence</th>\n",
       "      <th>Tempo</th>\n",
       "      <th>Duration_ms</th>\n",
       "      <th>Views</th>\n",
       "    </tr>\n",
       "    <tr>\n",
       "      <th>Artist_num</th>\n",
       "      <th></th>\n",
       "      <th></th>\n",
       "      <th></th>\n",
       "      <th></th>\n",
       "      <th></th>\n",
       "      <th></th>\n",
       "      <th></th>\n",
       "      <th></th>\n",
       "      <th></th>\n",
       "    </tr>\n",
       "  </thead>\n",
       "  <tbody>\n",
       "    <tr>\n",
       "      <th>0</th>\n",
       "      <td>-6.030000</td>\n",
       "      <td>0.079630</td>\n",
       "      <td>0.024090</td>\n",
       "      <td>0.117292</td>\n",
       "      <td>0.264110</td>\n",
       "      <td>0.6572</td>\n",
       "      <td>132.747000</td>\n",
       "      <td>238562.800000</td>\n",
       "      <td>2.043943e+08</td>\n",
       "    </tr>\n",
       "    <tr>\n",
       "      <th>1</th>\n",
       "      <td>-5.546200</td>\n",
       "      <td>0.052520</td>\n",
       "      <td>0.039500</td>\n",
       "      <td>0.011417</td>\n",
       "      <td>0.144860</td>\n",
       "      <td>0.5221</td>\n",
       "      <td>99.153600</td>\n",
       "      <td>275298.700000</td>\n",
       "      <td>4.061566e+08</td>\n",
       "    </tr>\n",
       "    <tr>\n",
       "      <th>2</th>\n",
       "      <td>-4.307222</td>\n",
       "      <td>0.336667</td>\n",
       "      <td>0.139067</td>\n",
       "      <td>0.000892</td>\n",
       "      <td>0.163967</td>\n",
       "      <td>0.7230</td>\n",
       "      <td>97.158222</td>\n",
       "      <td>221475.777778</td>\n",
       "      <td>5.066611e+08</td>\n",
       "    </tr>\n",
       "  </tbody>\n",
       "</table>\n",
       "</div>"
      ],
      "text/plain": [
       "            Loudness  Speechiness  Acousticness  Instrumentalness  Liveness  \\\n",
       "Artist_num                                                                    \n",
       "0          -6.030000     0.079630      0.024090          0.117292  0.264110   \n",
       "1          -5.546200     0.052520      0.039500          0.011417  0.144860   \n",
       "2          -4.307222     0.336667      0.139067          0.000892  0.163967   \n",
       "\n",
       "            Valence       Tempo    Duration_ms         Views  \n",
       "Artist_num                                                    \n",
       "0            0.6572  132.747000  238562.800000  2.043943e+08  \n",
       "1            0.5221   99.153600  275298.700000  4.061566e+08  \n",
       "2            0.7230   97.158222  221475.777778  5.066611e+08  "
      ]
     },
     "execution_count": 25,
     "metadata": {},
     "output_type": "execute_result"
    }
   ],
   "source": [
    "boolx.groupby('Artist_num').mean()"
   ]
  },
  {
   "cell_type": "markdown",
   "id": "87a8f758",
   "metadata": {
    "papermill": {
     "duration": 0.022108,
     "end_time": "2023-04-01T22:41:28.773343",
     "exception": false,
     "start_time": "2023-04-01T22:41:28.751235",
     "status": "completed"
    },
    "tags": []
   },
   "source": [
    "## I factorized the artist's names and here is the correlation matrix for each of our features on artist_name. As you can see speechiness is highly correlated, etc."
   ]
  },
  {
   "cell_type": "code",
   "execution_count": 26,
   "id": "3690fd36",
   "metadata": {
    "execution": {
     "iopub.execute_input": "2023-04-01T22:41:28.820134Z",
     "iopub.status.busy": "2023-04-01T22:41:28.819380Z",
     "iopub.status.idle": "2023-04-01T22:41:28.828370Z",
     "shell.execute_reply": "2023-04-01T22:41:28.827098Z"
    },
    "papermill": {
     "duration": 0.035258,
     "end_time": "2023-04-01T22:41:28.830845",
     "exception": false,
     "start_time": "2023-04-01T22:41:28.795587",
     "status": "completed"
    },
    "tags": []
   },
   "outputs": [
    {
     "data": {
      "text/plain": [
       "Loudness            0.277019\n",
       "Speechiness         0.744803\n",
       "Acousticness        0.524782\n",
       "Instrumentalness   -0.461078\n",
       "Liveness           -0.259978\n",
       "Valence             0.115553\n",
       "Tempo              -0.579708\n",
       "Duration_ms        -0.152022\n",
       "Views               0.334523\n",
       "Artist_num          1.000000\n",
       "Name: Artist_num, dtype: float64"
      ]
     },
     "execution_count": 26,
     "metadata": {},
     "output_type": "execute_result"
    }
   ],
   "source": [
    "boolx.corr()['Artist_num']"
   ]
  },
  {
   "cell_type": "markdown",
   "id": "7eb26b0b",
   "metadata": {
    "papermill": {
     "duration": 0.023551,
     "end_time": "2023-04-01T22:41:28.876766",
     "exception": false,
     "start_time": "2023-04-01T22:41:28.853215",
     "status": "completed"
    },
    "tags": []
   },
   "source": [
    "## here's a 3d model of what we're trying to do"
   ]
  },
  {
   "cell_type": "code",
   "execution_count": 27,
   "id": "59ed1109",
   "metadata": {
    "execution": {
     "iopub.execute_input": "2023-04-01T22:41:28.924280Z",
     "iopub.status.busy": "2023-04-01T22:41:28.923451Z",
     "iopub.status.idle": "2023-04-01T22:41:30.651986Z",
     "shell.execute_reply": "2023-04-01T22:41:30.650994Z"
    },
    "papermill": {
     "duration": 1.755156,
     "end_time": "2023-04-01T22:41:30.654542",
     "exception": false,
     "start_time": "2023-04-01T22:41:28.899386",
     "status": "completed"
    },
    "tags": []
   },
   "outputs": [
    {
     "data": {
      "text/html": [
       "        <script type=\"text/javascript\">\n",
       "        window.PlotlyConfig = {MathJaxConfig: 'local'};\n",
       "        if (window.MathJax && window.MathJax.Hub && window.MathJax.Hub.Config) {window.MathJax.Hub.Config({SVG: {font: \"STIX-Web\"}});}\n",
       "        if (typeof require !== 'undefined') {\n",
       "        require.undef(\"plotly\");\n",
       "        requirejs.config({\n",
       "            paths: {\n",
       "                'plotly': ['https://cdn.plot.ly/plotly-2.18.0.min']\n",
       "            }\n",
       "        });\n",
       "        require(['plotly'], function(Plotly) {\n",
       "            window._Plotly = Plotly;\n",
       "        });\n",
       "        }\n",
       "        </script>\n",
       "        "
      ]
     },
     "metadata": {},
     "output_type": "display_data"
    },
    {
     "data": {
      "text/html": [
       "<div>                            <div id=\"88257548-669b-4859-a10f-ea857e26e3b2\" class=\"plotly-graph-div\" style=\"height:525px; width:100%;\"></div>            <script type=\"text/javascript\">                require([\"plotly\"], function(Plotly) {                    window.PLOTLYENV=window.PLOTLYENV || {};                                    if (document.getElementById(\"88257548-669b-4859-a10f-ea857e26e3b2\")) {                    Plotly.newPlot(                        \"88257548-669b-4859-a10f-ea857e26e3b2\",                        [{\"hovertemplate\":\"Artist=Gorillaz<br>Acousticness=%{x}<br>Tempo=%{y}<br>Speechiness=%{z}<extra></extra>\",\"legendgroup\":\"Gorillaz\",\"marker\":{\"color\":\"#636efa\",\"symbol\":\"circle\"},\"mode\":\"markers\",\"name\":\"Gorillaz\",\"scene\":\"scene\",\"showlegend\":true,\"x\":[0.00836,0.0869,0.0425,0.0000151,0.0253,0.0229,0.012,0.00799,0.00343,0.0315],\"y\":[138.559,92.761,108.014,120.423,167.953,120.264,127.03,140.158,120.012,192.296],\"z\":[0.177,0.0302,0.0522,0.026,0.171,0.0372,0.0629,0.0313,0.0465,0.162],\"type\":\"scatter3d\"},{\"hovertemplate\":\"Artist=Red Hot Chili Peppers<br>Acousticness=%{x}<br>Tempo=%{y}<br>Speechiness=%{z}<extra></extra>\",\"legendgroup\":\"Red Hot Chili Peppers\",\"marker\":{\"color\":\"#EF553B\",\"symbol\":\"circle\"},\"mode\":\"markers\",\"name\":\"Red Hot Chili Peppers\",\"scene\":\"scene\",\"showlegend\":true,\"x\":[0.0021,0.0576,0.0179,0.0779,0.00316,0.116,0.0193,0.0264,0.00244,0.0722],\"y\":[96.483,84.581,91.455,88.969,123.229,104.655,96.184,122.444,91.577,91.959],\"z\":[0.027,0.0459,0.0456,0.0295,0.0574,0.0499,0.0437,0.107,0.0476,0.0716],\"type\":\"scatter3d\"},{\"hovertemplate\":\"Artist=50 Cent<br>Acousticness=%{x}<br>Tempo=%{y}<br>Speechiness=%{z}<extra></extra>\",\"legendgroup\":\"50 Cent\",\"marker\":{\"color\":\"#00cc96\",\"symbol\":\"circle\"},\"mode\":\"markers\",\"name\":\"50 Cent\",\"scene\":\"scene\",\"showlegend\":true,\"x\":[0.26,0.0253,0.0322,0.0444,0.0153,0.206,0.353,0.0714,0.244],\"y\":[90.059,125.173,96.946,78.693,108.52,97.018,90.012,94.028,93.975],\"z\":[0.347,0.466,0.41,0.342,0.354,0.231,0.317,0.261,0.302],\"type\":\"scatter3d\"}],                        {\"template\":{\"data\":{\"histogram2dcontour\":[{\"type\":\"histogram2dcontour\",\"colorbar\":{\"outlinewidth\":0,\"ticks\":\"\"},\"colorscale\":[[0.0,\"#0d0887\"],[0.1111111111111111,\"#46039f\"],[0.2222222222222222,\"#7201a8\"],[0.3333333333333333,\"#9c179e\"],[0.4444444444444444,\"#bd3786\"],[0.5555555555555556,\"#d8576b\"],[0.6666666666666666,\"#ed7953\"],[0.7777777777777778,\"#fb9f3a\"],[0.8888888888888888,\"#fdca26\"],[1.0,\"#f0f921\"]]}],\"choropleth\":[{\"type\":\"choropleth\",\"colorbar\":{\"outlinewidth\":0,\"ticks\":\"\"}}],\"histogram2d\":[{\"type\":\"histogram2d\",\"colorbar\":{\"outlinewidth\":0,\"ticks\":\"\"},\"colorscale\":[[0.0,\"#0d0887\"],[0.1111111111111111,\"#46039f\"],[0.2222222222222222,\"#7201a8\"],[0.3333333333333333,\"#9c179e\"],[0.4444444444444444,\"#bd3786\"],[0.5555555555555556,\"#d8576b\"],[0.6666666666666666,\"#ed7953\"],[0.7777777777777778,\"#fb9f3a\"],[0.8888888888888888,\"#fdca26\"],[1.0,\"#f0f921\"]]}],\"heatmap\":[{\"type\":\"heatmap\",\"colorbar\":{\"outlinewidth\":0,\"ticks\":\"\"},\"colorscale\":[[0.0,\"#0d0887\"],[0.1111111111111111,\"#46039f\"],[0.2222222222222222,\"#7201a8\"],[0.3333333333333333,\"#9c179e\"],[0.4444444444444444,\"#bd3786\"],[0.5555555555555556,\"#d8576b\"],[0.6666666666666666,\"#ed7953\"],[0.7777777777777778,\"#fb9f3a\"],[0.8888888888888888,\"#fdca26\"],[1.0,\"#f0f921\"]]}],\"heatmapgl\":[{\"type\":\"heatmapgl\",\"colorbar\":{\"outlinewidth\":0,\"ticks\":\"\"},\"colorscale\":[[0.0,\"#0d0887\"],[0.1111111111111111,\"#46039f\"],[0.2222222222222222,\"#7201a8\"],[0.3333333333333333,\"#9c179e\"],[0.4444444444444444,\"#bd3786\"],[0.5555555555555556,\"#d8576b\"],[0.6666666666666666,\"#ed7953\"],[0.7777777777777778,\"#fb9f3a\"],[0.8888888888888888,\"#fdca26\"],[1.0,\"#f0f921\"]]}],\"contourcarpet\":[{\"type\":\"contourcarpet\",\"colorbar\":{\"outlinewidth\":0,\"ticks\":\"\"}}],\"contour\":[{\"type\":\"contour\",\"colorbar\":{\"outlinewidth\":0,\"ticks\":\"\"},\"colorscale\":[[0.0,\"#0d0887\"],[0.1111111111111111,\"#46039f\"],[0.2222222222222222,\"#7201a8\"],[0.3333333333333333,\"#9c179e\"],[0.4444444444444444,\"#bd3786\"],[0.5555555555555556,\"#d8576b\"],[0.6666666666666666,\"#ed7953\"],[0.7777777777777778,\"#fb9f3a\"],[0.8888888888888888,\"#fdca26\"],[1.0,\"#f0f921\"]]}],\"surface\":[{\"type\":\"surface\",\"colorbar\":{\"outlinewidth\":0,\"ticks\":\"\"},\"colorscale\":[[0.0,\"#0d0887\"],[0.1111111111111111,\"#46039f\"],[0.2222222222222222,\"#7201a8\"],[0.3333333333333333,\"#9c179e\"],[0.4444444444444444,\"#bd3786\"],[0.5555555555555556,\"#d8576b\"],[0.6666666666666666,\"#ed7953\"],[0.7777777777777778,\"#fb9f3a\"],[0.8888888888888888,\"#fdca26\"],[1.0,\"#f0f921\"]]}],\"mesh3d\":[{\"type\":\"mesh3d\",\"colorbar\":{\"outlinewidth\":0,\"ticks\":\"\"}}],\"scatter\":[{\"fillpattern\":{\"fillmode\":\"overlay\",\"size\":10,\"solidity\":0.2},\"type\":\"scatter\"}],\"parcoords\":[{\"type\":\"parcoords\",\"line\":{\"colorbar\":{\"outlinewidth\":0,\"ticks\":\"\"}}}],\"scatterpolargl\":[{\"type\":\"scatterpolargl\",\"marker\":{\"colorbar\":{\"outlinewidth\":0,\"ticks\":\"\"}}}],\"bar\":[{\"error_x\":{\"color\":\"#2a3f5f\"},\"error_y\":{\"color\":\"#2a3f5f\"},\"marker\":{\"line\":{\"color\":\"#E5ECF6\",\"width\":0.5},\"pattern\":{\"fillmode\":\"overlay\",\"size\":10,\"solidity\":0.2}},\"type\":\"bar\"}],\"scattergeo\":[{\"type\":\"scattergeo\",\"marker\":{\"colorbar\":{\"outlinewidth\":0,\"ticks\":\"\"}}}],\"scatterpolar\":[{\"type\":\"scatterpolar\",\"marker\":{\"colorbar\":{\"outlinewidth\":0,\"ticks\":\"\"}}}],\"histogram\":[{\"marker\":{\"pattern\":{\"fillmode\":\"overlay\",\"size\":10,\"solidity\":0.2}},\"type\":\"histogram\"}],\"scattergl\":[{\"type\":\"scattergl\",\"marker\":{\"colorbar\":{\"outlinewidth\":0,\"ticks\":\"\"}}}],\"scatter3d\":[{\"type\":\"scatter3d\",\"line\":{\"colorbar\":{\"outlinewidth\":0,\"ticks\":\"\"}},\"marker\":{\"colorbar\":{\"outlinewidth\":0,\"ticks\":\"\"}}}],\"scattermapbox\":[{\"type\":\"scattermapbox\",\"marker\":{\"colorbar\":{\"outlinewidth\":0,\"ticks\":\"\"}}}],\"scatterternary\":[{\"type\":\"scatterternary\",\"marker\":{\"colorbar\":{\"outlinewidth\":0,\"ticks\":\"\"}}}],\"scattercarpet\":[{\"type\":\"scattercarpet\",\"marker\":{\"colorbar\":{\"outlinewidth\":0,\"ticks\":\"\"}}}],\"carpet\":[{\"aaxis\":{\"endlinecolor\":\"#2a3f5f\",\"gridcolor\":\"white\",\"linecolor\":\"white\",\"minorgridcolor\":\"white\",\"startlinecolor\":\"#2a3f5f\"},\"baxis\":{\"endlinecolor\":\"#2a3f5f\",\"gridcolor\":\"white\",\"linecolor\":\"white\",\"minorgridcolor\":\"white\",\"startlinecolor\":\"#2a3f5f\"},\"type\":\"carpet\"}],\"table\":[{\"cells\":{\"fill\":{\"color\":\"#EBF0F8\"},\"line\":{\"color\":\"white\"}},\"header\":{\"fill\":{\"color\":\"#C8D4E3\"},\"line\":{\"color\":\"white\"}},\"type\":\"table\"}],\"barpolar\":[{\"marker\":{\"line\":{\"color\":\"#E5ECF6\",\"width\":0.5},\"pattern\":{\"fillmode\":\"overlay\",\"size\":10,\"solidity\":0.2}},\"type\":\"barpolar\"}],\"pie\":[{\"automargin\":true,\"type\":\"pie\"}]},\"layout\":{\"autotypenumbers\":\"strict\",\"colorway\":[\"#636efa\",\"#EF553B\",\"#00cc96\",\"#ab63fa\",\"#FFA15A\",\"#19d3f3\",\"#FF6692\",\"#B6E880\",\"#FF97FF\",\"#FECB52\"],\"font\":{\"color\":\"#2a3f5f\"},\"hovermode\":\"closest\",\"hoverlabel\":{\"align\":\"left\"},\"paper_bgcolor\":\"white\",\"plot_bgcolor\":\"#E5ECF6\",\"polar\":{\"bgcolor\":\"#E5ECF6\",\"angularaxis\":{\"gridcolor\":\"white\",\"linecolor\":\"white\",\"ticks\":\"\"},\"radialaxis\":{\"gridcolor\":\"white\",\"linecolor\":\"white\",\"ticks\":\"\"}},\"ternary\":{\"bgcolor\":\"#E5ECF6\",\"aaxis\":{\"gridcolor\":\"white\",\"linecolor\":\"white\",\"ticks\":\"\"},\"baxis\":{\"gridcolor\":\"white\",\"linecolor\":\"white\",\"ticks\":\"\"},\"caxis\":{\"gridcolor\":\"white\",\"linecolor\":\"white\",\"ticks\":\"\"}},\"coloraxis\":{\"colorbar\":{\"outlinewidth\":0,\"ticks\":\"\"}},\"colorscale\":{\"sequential\":[[0.0,\"#0d0887\"],[0.1111111111111111,\"#46039f\"],[0.2222222222222222,\"#7201a8\"],[0.3333333333333333,\"#9c179e\"],[0.4444444444444444,\"#bd3786\"],[0.5555555555555556,\"#d8576b\"],[0.6666666666666666,\"#ed7953\"],[0.7777777777777778,\"#fb9f3a\"],[0.8888888888888888,\"#fdca26\"],[1.0,\"#f0f921\"]],\"sequentialminus\":[[0.0,\"#0d0887\"],[0.1111111111111111,\"#46039f\"],[0.2222222222222222,\"#7201a8\"],[0.3333333333333333,\"#9c179e\"],[0.4444444444444444,\"#bd3786\"],[0.5555555555555556,\"#d8576b\"],[0.6666666666666666,\"#ed7953\"],[0.7777777777777778,\"#fb9f3a\"],[0.8888888888888888,\"#fdca26\"],[1.0,\"#f0f921\"]],\"diverging\":[[0,\"#8e0152\"],[0.1,\"#c51b7d\"],[0.2,\"#de77ae\"],[0.3,\"#f1b6da\"],[0.4,\"#fde0ef\"],[0.5,\"#f7f7f7\"],[0.6,\"#e6f5d0\"],[0.7,\"#b8e186\"],[0.8,\"#7fbc41\"],[0.9,\"#4d9221\"],[1,\"#276419\"]]},\"xaxis\":{\"gridcolor\":\"white\",\"linecolor\":\"white\",\"ticks\":\"\",\"title\":{\"standoff\":15},\"zerolinecolor\":\"white\",\"automargin\":true,\"zerolinewidth\":2},\"yaxis\":{\"gridcolor\":\"white\",\"linecolor\":\"white\",\"ticks\":\"\",\"title\":{\"standoff\":15},\"zerolinecolor\":\"white\",\"automargin\":true,\"zerolinewidth\":2},\"scene\":{\"xaxis\":{\"backgroundcolor\":\"#E5ECF6\",\"gridcolor\":\"white\",\"linecolor\":\"white\",\"showbackground\":true,\"ticks\":\"\",\"zerolinecolor\":\"white\",\"gridwidth\":2},\"yaxis\":{\"backgroundcolor\":\"#E5ECF6\",\"gridcolor\":\"white\",\"linecolor\":\"white\",\"showbackground\":true,\"ticks\":\"\",\"zerolinecolor\":\"white\",\"gridwidth\":2},\"zaxis\":{\"backgroundcolor\":\"#E5ECF6\",\"gridcolor\":\"white\",\"linecolor\":\"white\",\"showbackground\":true,\"ticks\":\"\",\"zerolinecolor\":\"white\",\"gridwidth\":2}},\"shapedefaults\":{\"line\":{\"color\":\"#2a3f5f\"}},\"annotationdefaults\":{\"arrowcolor\":\"#2a3f5f\",\"arrowhead\":0,\"arrowwidth\":1},\"geo\":{\"bgcolor\":\"white\",\"landcolor\":\"#E5ECF6\",\"subunitcolor\":\"white\",\"showland\":true,\"showlakes\":true,\"lakecolor\":\"white\"},\"title\":{\"x\":0.05},\"mapbox\":{\"style\":\"light\"}}},\"scene\":{\"domain\":{\"x\":[0.0,1.0],\"y\":[0.0,1.0]},\"xaxis\":{\"title\":{\"text\":\"Acousticness\"}},\"yaxis\":{\"title\":{\"text\":\"Tempo\"}},\"zaxis\":{\"title\":{\"text\":\"Speechiness\"}}},\"legend\":{\"title\":{\"text\":\"Artist\"},\"tracegroupgap\":0},\"margin\":{\"t\":60}},                        {\"responsive\": true}                    ).then(function(){\n",
       "                            \n",
       "var gd = document.getElementById('88257548-669b-4859-a10f-ea857e26e3b2');\n",
       "var x = new MutationObserver(function (mutations, observer) {{\n",
       "        var display = window.getComputedStyle(gd).display;\n",
       "        if (!display || display === 'none') {{\n",
       "            console.log([gd, 'removed!']);\n",
       "            Plotly.purge(gd);\n",
       "            observer.disconnect();\n",
       "        }}\n",
       "}});\n",
       "\n",
       "// Listen for the removal of the full notebook cells\n",
       "var notebookContainer = gd.closest('#notebook-container');\n",
       "if (notebookContainer) {{\n",
       "    x.observe(notebookContainer, {childList: true});\n",
       "}}\n",
       "\n",
       "// Listen for the clearing of the current output cell\n",
       "var outputEl = gd.closest('.output');\n",
       "if (outputEl) {{\n",
       "    x.observe(outputEl, {childList: true});\n",
       "}}\n",
       "\n",
       "                        })                };                });            </script>        </div>"
      ]
     },
     "metadata": {},
     "output_type": "display_data"
    }
   ],
   "source": [
    "fig = px.scatter_3d(boolx, x='Acousticness', y='Tempo', z='Speechiness', color = 'Artist')\n",
    "fig.show()"
   ]
  },
  {
   "cell_type": "markdown",
   "id": "348ed0ac",
   "metadata": {
    "papermill": {
     "duration": 0.023926,
     "end_time": "2023-04-01T22:41:30.702945",
     "exception": false,
     "start_time": "2023-04-01T22:41:30.679019",
     "status": "completed"
    },
    "tags": []
   },
   "source": [
    "# as you can see certain artists drift towards certain traits in all of their music. 50 cent, being a rapper has the highest \"speechiness,\" which is the amount of spoken word in a track. Gorillaz music has a higher tempo, and seems to be clustered on the higher end of that axis. "
   ]
  },
  {
   "cell_type": "markdown",
   "id": "18d79ecb",
   "metadata": {
    "papermill": {
     "duration": 0.022712,
     "end_time": "2023-04-01T22:41:30.748692",
     "exception": false,
     "start_time": "2023-04-01T22:41:30.725980",
     "status": "completed"
    },
    "tags": []
   },
   "source": [
    "![](https://www.ibm.com/content/dam/connectedassets-adobe-cms/worldwide-content/cdp/cf/ul/g/ef/3a/KNN.component.xl-retina.ts=1653407890466.png/content/adobe-cms/us/en/topics/knn/jcr:content/root/table_of_contents/intro/complex_narrative/items/content_group/image)"
   ]
  },
  {
   "cell_type": "markdown",
   "id": "6f81788b",
   "metadata": {
    "papermill": {
     "duration": 0.022706,
     "end_time": "2023-04-01T22:41:30.794564",
     "exception": false,
     "start_time": "2023-04-01T22:41:30.771858",
     "status": "completed"
    },
    "tags": []
   },
   "source": [
    "## this is why we will use knn along w some other models to try and classify the artist "
   ]
  },
  {
   "cell_type": "markdown",
   "id": "ae78d6f1",
   "metadata": {
    "papermill": {
     "duration": 0.022687,
     "end_time": "2023-04-01T22:41:30.840470",
     "exception": false,
     "start_time": "2023-04-01T22:41:30.817783",
     "status": "completed"
    },
    "tags": []
   },
   "source": [
    "### example knn"
   ]
  },
  {
   "cell_type": "code",
   "execution_count": 28,
   "id": "250b2864",
   "metadata": {
    "execution": {
     "iopub.execute_input": "2023-04-01T22:41:30.889787Z",
     "iopub.status.busy": "2023-04-01T22:41:30.888768Z",
     "iopub.status.idle": "2023-04-01T22:41:30.904644Z",
     "shell.execute_reply": "2023-04-01T22:41:30.903479Z"
    },
    "papermill": {
     "duration": 0.043796,
     "end_time": "2023-04-01T22:41:30.907595",
     "exception": false,
     "start_time": "2023-04-01T22:41:30.863799",
     "status": "completed"
    },
    "tags": []
   },
   "outputs": [
    {
     "data": {
      "text/plain": [
       "1.0"
      ]
     },
     "execution_count": 28,
     "metadata": {},
     "output_type": "execute_result"
    }
   ],
   "source": [
    "#KNearestNeighbors model\n",
    "X = X.drop('Artist', axis = 1)\n",
    "knn2 = KNeighborsClassifier(n_neighbors=1)\n",
    "knn2.fit(X, y)\n",
    "knn2.score(X, y)"
   ]
  },
  {
   "cell_type": "markdown",
   "id": "f85fcccb",
   "metadata": {
    "papermill": {
     "duration": 0.022624,
     "end_time": "2023-04-01T22:41:30.953923",
     "exception": false,
     "start_time": "2023-04-01T22:41:30.931299",
     "status": "completed"
    },
    "tags": []
   },
   "source": [
    "# as you can see our model get's a perfect score on classification"
   ]
  },
  {
   "cell_type": "markdown",
   "id": "8e526aa6",
   "metadata": {
    "papermill": {
     "duration": 0.0226,
     "end_time": "2023-04-01T22:41:31.000764",
     "exception": false,
     "start_time": "2023-04-01T22:41:30.978164",
     "status": "completed"
    },
    "tags": []
   },
   "source": [
    "# now, let's try with the whole dataset:"
   ]
  },
  {
   "cell_type": "code",
   "execution_count": 29,
   "id": "2121c149",
   "metadata": {
    "execution": {
     "iopub.execute_input": "2023-04-01T22:41:31.049510Z",
     "iopub.status.busy": "2023-04-01T22:41:31.049049Z",
     "iopub.status.idle": "2023-04-01T22:41:31.063561Z",
     "shell.execute_reply": "2023-04-01T22:41:31.062377Z"
    },
    "papermill": {
     "duration": 0.041912,
     "end_time": "2023-04-01T22:41:31.066259",
     "exception": false,
     "start_time": "2023-04-01T22:41:31.024347",
     "status": "completed"
    },
    "tags": []
   },
   "outputs": [],
   "source": [
    "X = df.iloc[:, 8:16]\n",
    "y = df['Artist']\n",
    "X_train, X_test, y_train, y_test = train_test_split(X, y, test_size=0.01, random_state=42)"
   ]
  },
  {
   "cell_type": "code",
   "execution_count": 30,
   "id": "ea7ac299",
   "metadata": {
    "execution": {
     "iopub.execute_input": "2023-04-01T22:41:31.114851Z",
     "iopub.status.busy": "2023-04-01T22:41:31.114157Z",
     "iopub.status.idle": "2023-04-01T22:41:31.119760Z",
     "shell.execute_reply": "2023-04-01T22:41:31.118815Z"
    },
    "papermill": {
     "duration": 0.032463,
     "end_time": "2023-04-01T22:41:31.122278",
     "exception": false,
     "start_time": "2023-04-01T22:41:31.089815",
     "status": "completed"
    },
    "tags": []
   },
   "outputs": [],
   "source": [
    "model = LogisticRegression(solver='sag', random_state=0)"
   ]
  },
  {
   "cell_type": "code",
   "execution_count": 31,
   "id": "aa0b3e52",
   "metadata": {
    "execution": {
     "iopub.execute_input": "2023-04-01T22:41:31.170095Z",
     "iopub.status.busy": "2023-04-01T22:41:31.169341Z",
     "iopub.status.idle": "2023-04-01T22:41:42.050461Z",
     "shell.execute_reply": "2023-04-01T22:41:42.048842Z"
    },
    "papermill": {
     "duration": 10.908511,
     "end_time": "2023-04-01T22:41:42.053535",
     "exception": false,
     "start_time": "2023-04-01T22:41:31.145024",
     "status": "completed"
    },
    "tags": []
   },
   "outputs": [
    {
     "data": {
      "text/html": [
       "<div>\n",
       "<style scoped>\n",
       "    .dataframe tbody tr th:only-of-type {\n",
       "        vertical-align: middle;\n",
       "    }\n",
       "\n",
       "    .dataframe tbody tr th {\n",
       "        vertical-align: top;\n",
       "    }\n",
       "\n",
       "    .dataframe thead th {\n",
       "        text-align: right;\n",
       "    }\n",
       "</style>\n",
       "<table border=\"1\" class=\"dataframe\">\n",
       "  <thead>\n",
       "    <tr style=\"text-align: right;\">\n",
       "      <th></th>\n",
       "      <th>0</th>\n",
       "      <th>1</th>\n",
       "    </tr>\n",
       "  </thead>\n",
       "  <tbody>\n",
       "    <tr>\n",
       "      <th>0</th>\n",
       "      <td>Hariharan</td>\n",
       "      <td>Hariharan</td>\n",
       "    </tr>\n",
       "    <tr>\n",
       "      <th>1</th>\n",
       "      <td>Kris Kristofferson</td>\n",
       "      <td>Waylon Jennings</td>\n",
       "    </tr>\n",
       "    <tr>\n",
       "      <th>2</th>\n",
       "      <td>will.i.am</td>\n",
       "      <td>will.i.am</td>\n",
       "    </tr>\n",
       "    <tr>\n",
       "      <th>3</th>\n",
       "      <td>Belanova</td>\n",
       "      <td>Belanova</td>\n",
       "    </tr>\n",
       "    <tr>\n",
       "      <th>4</th>\n",
       "      <td>Luchè</td>\n",
       "      <td>Luchè</td>\n",
       "    </tr>\n",
       "    <tr>\n",
       "      <th>5</th>\n",
       "      <td>Becky Hill</td>\n",
       "      <td>Becky Hill</td>\n",
       "    </tr>\n",
       "    <tr>\n",
       "      <th>6</th>\n",
       "      <td>Rush</td>\n",
       "      <td>Rush</td>\n",
       "    </tr>\n",
       "    <tr>\n",
       "      <th>7</th>\n",
       "      <td>Thin Lizzy</td>\n",
       "      <td>Thin Lizzy</td>\n",
       "    </tr>\n",
       "    <tr>\n",
       "      <th>8</th>\n",
       "      <td>C. Tangana</td>\n",
       "      <td>C. Tangana</td>\n",
       "    </tr>\n",
       "    <tr>\n",
       "      <th>9</th>\n",
       "      <td>Turma do Pagode</td>\n",
       "      <td>Turma do Pagode</td>\n",
       "    </tr>\n",
       "  </tbody>\n",
       "</table>\n",
       "</div>"
      ],
      "text/plain": [
       "                    0                1\n",
       "0           Hariharan        Hariharan\n",
       "1  Kris Kristofferson  Waylon Jennings\n",
       "2           will.i.am        will.i.am\n",
       "3            Belanova         Belanova\n",
       "4               Luchè            Luchè\n",
       "5          Becky Hill       Becky Hill\n",
       "6                Rush             Rush\n",
       "7          Thin Lizzy       Thin Lizzy\n",
       "8          C. Tangana       C. Tangana\n",
       "9     Turma do Pagode  Turma do Pagode"
      ]
     },
     "execution_count": 31,
     "metadata": {},
     "output_type": "execute_result"
    }
   ],
   "source": [
    "# as you can see our decision tree has a very high score. It does not perform well with the test values but this is understood\n",
    "# given there are different artists. \n",
    "clf = tree.DecisionTreeClassifier()\n",
    "clf.fit(X_train, y_train)\n",
    "s = clf.predict(X_train)\n",
    "score = np.array([s, y_train])\n",
    "score = score.T\n",
    "pd.DataFrame(score).head(10)"
   ]
  },
  {
   "cell_type": "code",
   "execution_count": 32,
   "id": "bd46edbd",
   "metadata": {
    "execution": {
     "iopub.execute_input": "2023-04-01T22:41:42.103709Z",
     "iopub.status.busy": "2023-04-01T22:41:42.103061Z",
     "iopub.status.idle": "2023-04-01T22:41:42.304810Z",
     "shell.execute_reply": "2023-04-01T22:41:42.303452Z"
    },
    "papermill": {
     "duration": 0.229924,
     "end_time": "2023-04-01T22:41:42.308009",
     "exception": false,
     "start_time": "2023-04-01T22:41:42.078085",
     "status": "completed"
    },
    "tags": []
   },
   "outputs": [
    {
     "data": {
      "text/plain": [
       "0.9126750374618922"
      ]
     },
     "execution_count": 32,
     "metadata": {},
     "output_type": "execute_result"
    }
   ],
   "source": [
    "clf.score(X_train, y_train)"
   ]
  },
  {
   "cell_type": "code",
   "execution_count": 33,
   "id": "125498b4",
   "metadata": {
    "execution": {
     "iopub.execute_input": "2023-04-01T22:41:42.357419Z",
     "iopub.status.busy": "2023-04-01T22:41:42.356990Z",
     "iopub.status.idle": "2023-04-01T22:41:42.379759Z",
     "shell.execute_reply": "2023-04-01T22:41:42.378347Z"
    },
    "papermill": {
     "duration": 0.051122,
     "end_time": "2023-04-01T22:41:42.382427",
     "exception": false,
     "start_time": "2023-04-01T22:41:42.331305",
     "status": "completed"
    },
    "tags": []
   },
   "outputs": [
    {
     "data": {
      "text/html": [
       "<div>\n",
       "<style scoped>\n",
       "    .dataframe tbody tr th:only-of-type {\n",
       "        vertical-align: middle;\n",
       "    }\n",
       "\n",
       "    .dataframe tbody tr th {\n",
       "        vertical-align: top;\n",
       "    }\n",
       "\n",
       "    .dataframe thead th {\n",
       "        text-align: right;\n",
       "    }\n",
       "</style>\n",
       "<table border=\"1\" class=\"dataframe\">\n",
       "  <thead>\n",
       "    <tr style=\"text-align: right;\">\n",
       "      <th></th>\n",
       "      <th>Loudness</th>\n",
       "      <th>Speechiness</th>\n",
       "      <th>Acousticness</th>\n",
       "      <th>Instrumentalness</th>\n",
       "      <th>Liveness</th>\n",
       "      <th>Valence</th>\n",
       "      <th>Tempo</th>\n",
       "      <th>Duration_ms</th>\n",
       "    </tr>\n",
       "  </thead>\n",
       "  <tbody>\n",
       "    <tr>\n",
       "      <th>2471</th>\n",
       "      <td>-7.697</td>\n",
       "      <td>0.0361</td>\n",
       "      <td>0.134000</td>\n",
       "      <td>0.000005</td>\n",
       "      <td>0.1530</td>\n",
       "      <td>0.757</td>\n",
       "      <td>129.987</td>\n",
       "      <td>325363.0</td>\n",
       "    </tr>\n",
       "    <tr>\n",
       "      <th>4209</th>\n",
       "      <td>-14.647</td>\n",
       "      <td>0.0311</td>\n",
       "      <td>0.526000</td>\n",
       "      <td>0.056400</td>\n",
       "      <td>0.2520</td>\n",
       "      <td>0.723</td>\n",
       "      <td>148.030</td>\n",
       "      <td>192427.0</td>\n",
       "    </tr>\n",
       "    <tr>\n",
       "      <th>8243</th>\n",
       "      <td>-3.446</td>\n",
       "      <td>0.0445</td>\n",
       "      <td>0.004730</td>\n",
       "      <td>0.000000</td>\n",
       "      <td>0.1450</td>\n",
       "      <td>0.282</td>\n",
       "      <td>128.954</td>\n",
       "      <td>279027.0</td>\n",
       "    </tr>\n",
       "    <tr>\n",
       "      <th>11206</th>\n",
       "      <td>-2.739</td>\n",
       "      <td>0.0412</td>\n",
       "      <td>0.000371</td>\n",
       "      <td>0.018200</td>\n",
       "      <td>0.0659</td>\n",
       "      <td>0.610</td>\n",
       "      <td>75.019</td>\n",
       "      <td>164507.0</td>\n",
       "    </tr>\n",
       "    <tr>\n",
       "      <th>15113</th>\n",
       "      <td>-6.084</td>\n",
       "      <td>0.2330</td>\n",
       "      <td>0.113000</td>\n",
       "      <td>0.000000</td>\n",
       "      <td>0.1140</td>\n",
       "      <td>0.737</td>\n",
       "      <td>120.255</td>\n",
       "      <td>152000.0</td>\n",
       "    </tr>\n",
       "    <tr>\n",
       "      <th>...</th>\n",
       "      <td>...</td>\n",
       "      <td>...</td>\n",
       "      <td>...</td>\n",
       "      <td>...</td>\n",
       "      <td>...</td>\n",
       "      <td>...</td>\n",
       "      <td>...</td>\n",
       "      <td>...</td>\n",
       "    </tr>\n",
       "    <tr>\n",
       "      <th>12049</th>\n",
       "      <td>-8.336</td>\n",
       "      <td>0.3100</td>\n",
       "      <td>0.246000</td>\n",
       "      <td>0.000000</td>\n",
       "      <td>0.1890</td>\n",
       "      <td>0.580</td>\n",
       "      <td>92.791</td>\n",
       "      <td>207187.0</td>\n",
       "    </tr>\n",
       "    <tr>\n",
       "      <th>12779</th>\n",
       "      <td>-5.886</td>\n",
       "      <td>0.0357</td>\n",
       "      <td>0.188000</td>\n",
       "      <td>0.000000</td>\n",
       "      <td>0.1460</td>\n",
       "      <td>0.225</td>\n",
       "      <td>104.036</td>\n",
       "      <td>262467.0</td>\n",
       "    </tr>\n",
       "    <tr>\n",
       "      <th>5744</th>\n",
       "      <td>-6.063</td>\n",
       "      <td>0.0317</td>\n",
       "      <td>0.215000</td>\n",
       "      <td>0.000000</td>\n",
       "      <td>0.3520</td>\n",
       "      <td>0.535</td>\n",
       "      <td>166.015</td>\n",
       "      <td>219267.0</td>\n",
       "    </tr>\n",
       "    <tr>\n",
       "      <th>912</th>\n",
       "      <td>-10.233</td>\n",
       "      <td>0.0845</td>\n",
       "      <td>0.005420</td>\n",
       "      <td>0.000000</td>\n",
       "      <td>0.1710</td>\n",
       "      <td>0.467</td>\n",
       "      <td>144.992</td>\n",
       "      <td>239413.0</td>\n",
       "    </tr>\n",
       "    <tr>\n",
       "      <th>16807</th>\n",
       "      <td>-4.188</td>\n",
       "      <td>0.2900</td>\n",
       "      <td>0.268000</td>\n",
       "      <td>0.000000</td>\n",
       "      <td>0.3670</td>\n",
       "      <td>0.724</td>\n",
       "      <td>174.013</td>\n",
       "      <td>218587.0</td>\n",
       "    </tr>\n",
       "  </tbody>\n",
       "</table>\n",
       "<p>19353 rows × 8 columns</p>\n",
       "</div>"
      ],
      "text/plain": [
       "       Loudness  Speechiness  Acousticness  Instrumentalness  Liveness  \\\n",
       "2471     -7.697       0.0361      0.134000          0.000005    0.1530   \n",
       "4209    -14.647       0.0311      0.526000          0.056400    0.2520   \n",
       "8243     -3.446       0.0445      0.004730          0.000000    0.1450   \n",
       "11206    -2.739       0.0412      0.000371          0.018200    0.0659   \n",
       "15113    -6.084       0.2330      0.113000          0.000000    0.1140   \n",
       "...         ...          ...           ...               ...       ...   \n",
       "12049    -8.336       0.3100      0.246000          0.000000    0.1890   \n",
       "12779    -5.886       0.0357      0.188000          0.000000    0.1460   \n",
       "5744     -6.063       0.0317      0.215000          0.000000    0.3520   \n",
       "912     -10.233       0.0845      0.005420          0.000000    0.1710   \n",
       "16807    -4.188       0.2900      0.268000          0.000000    0.3670   \n",
       "\n",
       "       Valence    Tempo  Duration_ms  \n",
       "2471     0.757  129.987     325363.0  \n",
       "4209     0.723  148.030     192427.0  \n",
       "8243     0.282  128.954     279027.0  \n",
       "11206    0.610   75.019     164507.0  \n",
       "15113    0.737  120.255     152000.0  \n",
       "...        ...      ...          ...  \n",
       "12049    0.580   92.791     207187.0  \n",
       "12779    0.225  104.036     262467.0  \n",
       "5744     0.535  166.015     219267.0  \n",
       "912      0.467  144.992     239413.0  \n",
       "16807    0.724  174.013     218587.0  \n",
       "\n",
       "[19353 rows x 8 columns]"
      ]
     },
     "execution_count": 33,
     "metadata": {},
     "output_type": "execute_result"
    }
   ],
   "source": [
    "X_train"
   ]
  },
  {
   "cell_type": "code",
   "execution_count": 34,
   "id": "00f6acb7",
   "metadata": {
    "execution": {
     "iopub.execute_input": "2023-04-01T22:41:42.433140Z",
     "iopub.status.busy": "2023-04-01T22:41:42.432711Z",
     "iopub.status.idle": "2023-04-01T22:41:42.442287Z",
     "shell.execute_reply": "2023-04-01T22:41:42.440683Z"
    },
    "papermill": {
     "duration": 0.03875,
     "end_time": "2023-04-01T22:41:42.445688",
     "exception": false,
     "start_time": "2023-04-01T22:41:42.406938",
     "status": "completed"
    },
    "tags": []
   },
   "outputs": [
    {
     "name": "stderr",
     "output_type": "stream",
     "text": [
      "/opt/conda/lib/python3.7/site-packages/sklearn/base.py:451: UserWarning:\n",
      "\n",
      "X does not have valid feature names, but DecisionTreeClassifier was fitted with feature names\n",
      "\n"
     ]
    },
    {
     "data": {
      "text/plain": [
       "array(['Mandy Moore'], dtype=object)"
      ]
     },
     "execution_count": 34,
     "metadata": {},
     "output_type": "execute_result"
    }
   ],
   "source": [
    "test1 = np.array(X_train.loc[5881]).reshape(1,8)\n",
    "clf.predict(test1)"
   ]
  },
  {
   "cell_type": "code",
   "execution_count": 35,
   "id": "4159ece5",
   "metadata": {
    "execution": {
     "iopub.execute_input": "2023-04-01T22:41:42.497572Z",
     "iopub.status.busy": "2023-04-01T22:41:42.496845Z",
     "iopub.status.idle": "2023-04-01T22:41:42.506114Z",
     "shell.execute_reply": "2023-04-01T22:41:42.504741Z"
    },
    "papermill": {
     "duration": 0.038059,
     "end_time": "2023-04-01T22:41:42.508751",
     "exception": false,
     "start_time": "2023-04-01T22:41:42.470692",
     "status": "completed"
    },
    "tags": []
   },
   "outputs": [
    {
     "data": {
      "text/plain": [
       "'Mandy Moore'"
      ]
     },
     "execution_count": 35,
     "metadata": {},
     "output_type": "execute_result"
    }
   ],
   "source": [
    "y_train.loc[5881]"
   ]
  },
  {
   "cell_type": "code",
   "execution_count": 36,
   "id": "56cab501",
   "metadata": {
    "execution": {
     "iopub.execute_input": "2023-04-01T22:41:42.558578Z",
     "iopub.status.busy": "2023-04-01T22:41:42.558114Z",
     "iopub.status.idle": "2023-04-01T22:41:42.623991Z",
     "shell.execute_reply": "2023-04-01T22:41:42.622493Z"
    },
    "papermill": {
     "duration": 0.094394,
     "end_time": "2023-04-01T22:41:42.626971",
     "exception": false,
     "start_time": "2023-04-01T22:41:42.532577",
     "status": "completed"
    },
    "tags": []
   },
   "outputs": [
    {
     "data": {
      "text/plain": [
       "KNeighborsClassifier(n_neighbors=1)"
      ]
     },
     "execution_count": 36,
     "metadata": {},
     "output_type": "execute_result"
    }
   ],
   "source": [
    "neighbors = KNeighborsClassifier(n_neighbors=1)\n",
    "neighbors.fit(X_train, y_train)"
   ]
  },
  {
   "cell_type": "code",
   "execution_count": 37,
   "id": "c842020f",
   "metadata": {
    "execution": {
     "iopub.execute_input": "2023-04-01T22:41:42.678294Z",
     "iopub.status.busy": "2023-04-01T22:41:42.677302Z",
     "iopub.status.idle": "2023-04-01T22:41:43.206892Z",
     "shell.execute_reply": "2023-04-01T22:41:43.205621Z"
    },
    "papermill": {
     "duration": 0.558433,
     "end_time": "2023-04-01T22:41:43.210177",
     "exception": false,
     "start_time": "2023-04-01T22:41:42.651744",
     "status": "completed"
    },
    "tags": []
   },
   "outputs": [
    {
     "data": {
      "text/plain": [
       "0.9126750374618922"
      ]
     },
     "execution_count": 37,
     "metadata": {},
     "output_type": "execute_result"
    }
   ],
   "source": [
    "neighbors.score(X_train, y_train)"
   ]
  },
  {
   "cell_type": "code",
   "execution_count": 38,
   "id": "b3cc5405",
   "metadata": {
    "execution": {
     "iopub.execute_input": "2023-04-01T22:41:43.262781Z",
     "iopub.status.busy": "2023-04-01T22:41:43.261759Z",
     "iopub.status.idle": "2023-04-01T22:41:43.456332Z",
     "shell.execute_reply": "2023-04-01T22:41:43.454980Z"
    },
    "papermill": {
     "duration": 0.224706,
     "end_time": "2023-04-01T22:41:43.459453",
     "exception": false,
     "start_time": "2023-04-01T22:41:43.234747",
     "status": "completed"
    },
    "tags": []
   },
   "outputs": [],
   "source": [
    "from sklearn.ensemble import RandomForestClassifier\n",
    "from sklearn.datasets import make_classification"
   ]
  },
  {
   "cell_type": "code",
   "execution_count": 39,
   "id": "248f8551",
   "metadata": {
    "execution": {
     "iopub.execute_input": "2023-04-01T22:41:43.509456Z",
     "iopub.status.busy": "2023-04-01T22:41:43.509043Z",
     "iopub.status.idle": "2023-04-01T22:41:51.887138Z",
     "shell.execute_reply": "2023-04-01T22:41:51.885972Z"
    },
    "papermill": {
     "duration": 8.406603,
     "end_time": "2023-04-01T22:41:51.890099",
     "exception": false,
     "start_time": "2023-04-01T22:41:43.483496",
     "status": "completed"
    },
    "tags": []
   },
   "outputs": [
    {
     "data": {
      "text/plain": [
       "RandomForestClassifier(max_depth=2, random_state=0)"
      ]
     },
     "execution_count": 39,
     "metadata": {},
     "output_type": "execute_result"
    }
   ],
   "source": [
    "# initial randomn forest\n",
    "X, y = make_classification(n_samples=1000, n_features=4, n_informative=2, n_redundant=0, random_state=0, shuffle=False)\n",
    "rdf = RandomForestClassifier(max_depth=2, random_state=0)\n",
    "rdf.fit(X_train, y_train)"
   ]
  },
  {
   "cell_type": "code",
   "execution_count": 40,
   "id": "4c621850",
   "metadata": {
    "execution": {
     "iopub.execute_input": "2023-04-01T22:41:51.940630Z",
     "iopub.status.busy": "2023-04-01T22:41:51.940165Z",
     "iopub.status.idle": "2023-04-01T22:42:13.037724Z",
     "shell.execute_reply": "2023-04-01T22:42:13.036159Z"
    },
    "papermill": {
     "duration": 21.126695,
     "end_time": "2023-04-01T22:42:13.040975",
     "exception": false,
     "start_time": "2023-04-01T22:41:51.914280",
     "status": "completed"
    },
    "tags": []
   },
   "outputs": [
    {
     "data": {
      "text/plain": [
       "0.015604815790833462"
      ]
     },
     "execution_count": 40,
     "metadata": {},
     "output_type": "execute_result"
    }
   ],
   "source": [
    "rdf.score(X_train, y_train)"
   ]
  },
  {
   "cell_type": "code",
   "execution_count": 41,
   "id": "4eec6001",
   "metadata": {
    "execution": {
     "iopub.execute_input": "2023-04-01T22:42:13.092806Z",
     "iopub.status.busy": "2023-04-01T22:42:13.092085Z",
     "iopub.status.idle": "2023-04-01T22:45:17.789503Z",
     "shell.execute_reply": "2023-04-01T22:45:17.788075Z"
    },
    "papermill": {
     "duration": 184.750767,
     "end_time": "2023-04-01T22:45:17.816892",
     "exception": false,
     "start_time": "2023-04-01T22:42:13.066125",
     "status": "completed"
    },
    "tags": []
   },
   "outputs": [
    {
     "data": {
      "text/plain": [
       "RandomForestClassifier(max_depth=28, random_state=0)"
      ]
     },
     "execution_count": 41,
     "metadata": {},
     "output_type": "execute_result"
    }
   ],
   "source": [
    "X, y = make_classification(n_samples=20000, n_features=8, n_informative=8 , n_redundant=0, random_state=0, shuffle=False)\n",
    "rdf2 = RandomForestClassifier(max_depth=28, random_state=0)\n",
    "rdf2.fit(X_train, y_train)"
   ]
  },
  {
   "cell_type": "code",
   "execution_count": 42,
   "id": "eaa0672a",
   "metadata": {
    "execution": {
     "iopub.execute_input": "2023-04-01T22:45:17.869663Z",
     "iopub.status.busy": "2023-04-01T22:45:17.869223Z",
     "iopub.status.idle": "2023-04-01T22:45:41.300776Z",
     "shell.execute_reply": "2023-04-01T22:45:41.299388Z"
    },
    "papermill": {
     "duration": 23.461587,
     "end_time": "2023-04-01T22:45:41.303680",
     "exception": false,
     "start_time": "2023-04-01T22:45:17.842093",
     "status": "completed"
    },
    "tags": []
   },
   "outputs": [
    {
     "data": {
      "text/plain": [
       "0.9126233658864259"
      ]
     },
     "execution_count": 42,
     "metadata": {},
     "output_type": "execute_result"
    }
   ],
   "source": [
    "rdf2.score(X_train, y_train)"
   ]
  },
  {
   "cell_type": "markdown",
   "id": "8cccb7e6",
   "metadata": {
    "papermill": {
     "duration": 0.024277,
     "end_time": "2023-04-01T22:45:41.353466",
     "exception": false,
     "start_time": "2023-04-01T22:45:41.329189",
     "status": "completed"
    },
    "tags": []
   },
   "source": []
  },
  {
   "cell_type": "markdown",
   "id": "f3e0d048",
   "metadata": {
    "papermill": {
     "duration": 0.025291,
     "end_time": "2023-04-01T22:45:41.403491",
     "exception": false,
     "start_time": "2023-04-01T22:45:41.378200",
     "status": "completed"
    },
    "tags": []
   },
   "source": [
    "## it is worth noting that when classifying completely new songs the model performs much worse, but this is also because it is only trained with at MOST 10 songs per artist"
   ]
  },
  {
   "cell_type": "code",
   "execution_count": 43,
   "id": "bd10afcb",
   "metadata": {
    "execution": {
     "iopub.execute_input": "2023-04-01T22:45:41.456244Z",
     "iopub.status.busy": "2023-04-01T22:45:41.455543Z",
     "iopub.status.idle": "2023-04-01T22:45:41.657385Z",
     "shell.execute_reply": "2023-04-01T22:45:41.656058Z"
    },
    "papermill": {
     "duration": 0.231546,
     "end_time": "2023-04-01T22:45:41.660077",
     "exception": false,
     "start_time": "2023-04-01T22:45:41.428531",
     "status": "completed"
    },
    "tags": []
   },
   "outputs": [
    {
     "data": {
      "text/plain": [
       "0.030612244897959183"
      ]
     },
     "execution_count": 43,
     "metadata": {},
     "output_type": "execute_result"
    }
   ],
   "source": [
    "rdf2.score(X_test, y_test)"
   ]
  },
  {
   "cell_type": "markdown",
   "id": "668d2f50",
   "metadata": {
    "papermill": {
     "duration": 0.024993,
     "end_time": "2023-04-01T22:45:41.711298",
     "exception": false,
     "start_time": "2023-04-01T22:45:41.686305",
     "status": "completed"
    },
    "tags": []
   },
   "source": []
  },
  {
   "cell_type": "code",
   "execution_count": null,
   "id": "b4d59585",
   "metadata": {
    "papermill": {
     "duration": 0.024373,
     "end_time": "2023-04-01T22:45:41.760551",
     "exception": false,
     "start_time": "2023-04-01T22:45:41.736178",
     "status": "completed"
    },
    "tags": []
   },
   "outputs": [],
   "source": []
  },
  {
   "cell_type": "code",
   "execution_count": null,
   "id": "921b798f",
   "metadata": {
    "papermill": {
     "duration": 0.024502,
     "end_time": "2023-04-01T22:45:41.809661",
     "exception": false,
     "start_time": "2023-04-01T22:45:41.785159",
     "status": "completed"
    },
    "tags": []
   },
   "outputs": [],
   "source": []
  },
  {
   "cell_type": "code",
   "execution_count": null,
   "id": "90ebd451",
   "metadata": {
    "papermill": {
     "duration": 0.024852,
     "end_time": "2023-04-01T22:45:41.859222",
     "exception": false,
     "start_time": "2023-04-01T22:45:41.834370",
     "status": "completed"
    },
    "tags": []
   },
   "outputs": [],
   "source": []
  },
  {
   "cell_type": "code",
   "execution_count": null,
   "id": "ff08eb7b",
   "metadata": {
    "papermill": {
     "duration": 0.025332,
     "end_time": "2023-04-01T22:45:41.909199",
     "exception": false,
     "start_time": "2023-04-01T22:45:41.883867",
     "status": "completed"
    },
    "tags": []
   },
   "outputs": [],
   "source": []
  },
  {
   "cell_type": "code",
   "execution_count": null,
   "id": "01c689e2",
   "metadata": {
    "papermill": {
     "duration": 0.02454,
     "end_time": "2023-04-01T22:45:41.958574",
     "exception": false,
     "start_time": "2023-04-01T22:45:41.934034",
     "status": "completed"
    },
    "tags": []
   },
   "outputs": [],
   "source": []
  },
  {
   "cell_type": "code",
   "execution_count": null,
   "id": "d83967c3",
   "metadata": {
    "papermill": {
     "duration": 0.024327,
     "end_time": "2023-04-01T22:45:42.007367",
     "exception": false,
     "start_time": "2023-04-01T22:45:41.983040",
     "status": "completed"
    },
    "tags": []
   },
   "outputs": [],
   "source": []
  },
  {
   "cell_type": "code",
   "execution_count": null,
   "id": "5c3756f3",
   "metadata": {
    "papermill": {
     "duration": 0.024299,
     "end_time": "2023-04-01T22:45:42.056686",
     "exception": false,
     "start_time": "2023-04-01T22:45:42.032387",
     "status": "completed"
    },
    "tags": []
   },
   "outputs": [],
   "source": []
  }
 ],
 "metadata": {
  "kernelspec": {
   "display_name": "Python 3",
   "language": "python",
   "name": "python3"
  },
  "language_info": {
   "codemirror_mode": {
    "name": "ipython",
    "version": 3
   },
   "file_extension": ".py",
   "mimetype": "text/x-python",
   "name": "python",
   "nbconvert_exporter": "python",
   "pygments_lexer": "ipython3",
   "version": "3.7.12"
  },
  "papermill": {
   "default_parameters": {},
   "duration": 277.028571,
   "end_time": "2023-04-01T22:45:44.210932",
   "environment_variables": {},
   "exception": null,
   "input_path": "__notebook__.ipynb",
   "output_path": "__notebook__.ipynb",
   "parameters": {},
   "start_time": "2023-04-01T22:41:07.182361",
   "version": "2.4.0"
  }
 },
 "nbformat": 4,
 "nbformat_minor": 5
}
